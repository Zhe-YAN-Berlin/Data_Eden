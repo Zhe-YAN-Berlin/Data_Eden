{
 "cells": [
  {
   "cell_type": "code",
   "execution_count": 217,
   "id": "8c27d2cc",
   "metadata": {},
   "outputs": [],
   "source": [
    "from pyspark.sql import SparkSession\n",
    "from pyspark.sql.types import *\n",
    "from pyspark.sql.types import StructType, StructField, StringType, IntegerType, TimestampType\n",
    "\n",
    "credentials_location = '/home/datatalks_jan/.google/credentials/google_credentials.json'\n",
    "\n",
    "spark = SparkSession.builder.appName('test').master(\"local[*]\") \\\n",
    "    .config(\"spark.jars\", \"./lib/gcs-connector-hadoop3-2.2.5.jar\") \\\n",
    "    .config(\"spark.hadoop.google.cloud.auth.service.account.enable\", \"true\") \\\n",
    "    .config(\"spark.hadoop.google.cloud.auth.service.account.json.keyfile\", credentials_location) \\\n",
    "    .getOrCreate()\n",
    "\n",
    "sc = spark.sparkContext\n",
    "\n",
    "hadoop_conf = sc._jsc.hadoopConfiguration()\n",
    "\n",
    "hadoop_conf.set(\"fs.AbstractFileSystem.gs.impl\", \"com.google.cloud.hadoop.fs.gcs.GoogleHadoopFS\")\n",
    "hadoop_conf.set(\"fs.gs.impl\", \"com.google.cloud.hadoop.fs.gcs.GoogleHadoopFileSystem\")\n",
    "hadoop_conf.set(\"fs.gs.auth.service.account.json.keyfile\", credentials_location)\n",
    "hadoop_conf.set(\"fs.gs.auth.service.account.enable\", \"true\")"
   ]
  },
  {
   "cell_type": "code",
   "execution_count": 218,
   "id": "7e48b96b",
   "metadata": {},
   "outputs": [],
   "source": [
    "schema = StructType ([StructField('hvfhs_license_num',StringType(),True),\\\n",
    "                     StructField('dispatching_base_num',StringType(),True),\\\n",
    "                     StructField('pickup_datetime',TimestampType(),True),\\\n",
    "                     StructField('dropoff_datetime',TimestampType(),True),\\\n",
    "                     StructField('PULocationID',IntegerType(),True),\\\n",
    "                     StructField('DOLocationID',IntegerType(),True),\\\n",
    "                    StructField('SR_Flag',StringType(),True)])"
   ]
  },
  {
   "cell_type": "code",
   "execution_count": 219,
   "id": "f9fe074e",
   "metadata": {},
   "outputs": [],
   "source": [
    "raw_data = spark.read.option(\"header\",True).csv(\"/home/datatalks_jan/Data_Eden/8_pySpark_pilot/head_*.csv\", schema=schema)"
   ]
  },
  {
   "cell_type": "code",
   "execution_count": 220,
   "id": "fef62886",
   "metadata": {},
   "outputs": [
    {
     "name": "stdout",
     "output_type": "stream",
     "text": [
      "root\n",
      " |-- hvfhs_license_num: string (nullable = true)\n",
      " |-- dispatching_base_num: string (nullable = true)\n",
      " |-- pickup_datetime: timestamp (nullable = true)\n",
      " |-- dropoff_datetime: timestamp (nullable = true)\n",
      " |-- PULocationID: integer (nullable = true)\n",
      " |-- DOLocationID: integer (nullable = true)\n",
      " |-- SR_Flag: string (nullable = true)\n",
      "\n"
     ]
    },
    {
     "data": {
      "text/plain": [
       "1002"
      ]
     },
     "execution_count": 220,
     "metadata": {},
     "output_type": "execute_result"
    }
   ],
   "source": [
    "raw_data.printSchema()\n",
    "raw_data.count()"
   ]
  },
  {
   "cell_type": "code",
   "execution_count": 221,
   "id": "04685826",
   "metadata": {},
   "outputs": [
    {
     "data": {
      "text/plain": [
       "1001"
      ]
     },
     "execution_count": 221,
     "metadata": {},
     "output_type": "execute_result"
    }
   ],
   "source": [
    "data_without_bad = raw_data.filter(raw_data.hvfhs_license_num != \"BAD\") \n",
    "data_without_bad.count()"
   ]
  },
  {
   "cell_type": "code",
   "execution_count": 222,
   "id": "c4d459cd",
   "metadata": {},
   "outputs": [
    {
     "data": {
      "text/plain": [
       "1000"
      ]
     },
     "execution_count": 222,
     "metadata": {},
     "output_type": "execute_result"
    }
   ],
   "source": [
    "from pyspark.sql.functions import col, to_date\n",
    "\n",
    "data_older_than_summer_2021 = data_without_bad.filter(col(\"pickup_datetime\") != \"2021-01-01 00:21:08\") \n",
    "data_older_than_summer_2021.count()\n"
   ]
  },
  {
   "cell_type": "code",
   "execution_count": 223,
   "id": "d50428b8",
   "metadata": {},
   "outputs": [],
   "source": [
    "from pyspark.sql import functions as F\n",
    "\n",
    "data_clean=data_older_than_summer_2021.withColumn('pickup_datetime',F.to_date(data_older_than_summer_2021.pickup_datetime)) \\\n",
    ".withColumn('dropoff_datetime',F.to_date(data_older_than_summer_2021.dropoff_datetime)) \\\n",
    ".withColumn('operator', F.lit('ZHE'))"
   ]
  },
  {
   "cell_type": "code",
   "execution_count": 224,
   "id": "e280e55e",
   "metadata": {},
   "outputs": [
    {
     "name": "stdout",
     "output_type": "stream",
     "text": [
      "+-----------------+--------------------+---------------+----------------+------------+------------+-------+--------+\n",
      "|hvfhs_license_num|dispatching_base_num|pickup_datetime|dropoff_datetime|PULocationID|DOLocationID|SR_Flag|operator|\n",
      "+-----------------+--------------------+---------------+----------------+------------+------------+-------+--------+\n",
      "|           HV0003|              B02682|     2021-01-01|      2021-01-01|         230|         166|   null|     ZHE|\n",
      "|           HV0003|              B02682|     2021-01-01|      2021-01-01|         152|         167|   null|     ZHE|\n",
      "|           HV0003|              B02764|     2021-01-01|      2021-01-01|         233|         142|   null|     ZHE|\n",
      "|           HV0003|              B02764|     2021-01-01|      2021-01-01|         142|         143|   null|     ZHE|\n",
      "|           HV0003|              B02764|     2021-01-01|      2021-01-01|         143|          78|   null|     ZHE|\n",
      "|           HV0005|              B02510|     2021-01-01|      2021-01-01|          88|          42|   null|     ZHE|\n",
      "|           HV0005|              B02510|     2021-01-01|      2021-01-01|          42|         151|   null|     ZHE|\n",
      "|           HV0003|              B02764|     2021-01-01|      2021-01-01|          71|         226|   null|     ZHE|\n",
      "|           HV0003|              B02875|     2021-01-01|      2021-01-01|         112|         255|   null|     ZHE|\n",
      "|           HV0003|              B02875|     2021-01-01|      2021-01-01|         255|         232|   null|     ZHE|\n",
      "|           HV0003|              B02875|     2021-01-01|      2021-01-01|         232|         198|   null|     ZHE|\n",
      "|           HV0003|              B02835|     2021-01-01|      2021-01-01|         113|          48|   null|     ZHE|\n",
      "|           HV0003|              B02835|     2021-01-01|      2021-01-01|         239|          75|   null|     ZHE|\n",
      "|           HV0004|              B02800|     2021-01-01|      2021-01-01|         181|         237|   null|     ZHE|\n",
      "|           HV0004|              B02800|     2021-01-01|      2021-01-01|         236|          68|   null|     ZHE|\n",
      "|           HV0003|              B02682|     2021-01-01|      2021-01-01|         256|         148|   null|     ZHE|\n",
      "|           HV0003|              B02682|     2021-01-01|      2021-01-01|          79|          80|   null|     ZHE|\n",
      "|           HV0003|              B02682|     2021-01-01|      2021-01-01|          17|         217|   null|     ZHE|\n",
      "|           HV0005|              B02510|     2021-01-01|      2021-01-01|          62|          29|   null|     ZHE|\n",
      "|           HV0003|              B02836|     2021-01-01|      2021-01-01|          22|          22|   null|     ZHE|\n",
      "+-----------------+--------------------+---------------+----------------+------------+------------+-------+--------+\n",
      "only showing top 20 rows\n",
      "\n"
     ]
    }
   ],
   "source": [
    "data_clean.show()"
   ]
  },
  {
   "cell_type": "code",
   "execution_count": 225,
   "id": "f8fb915e",
   "metadata": {},
   "outputs": [],
   "source": [
    "data_clean.createOrReplaceTempView('etl_1')"
   ]
  },
  {
   "cell_type": "code",
   "execution_count": 226,
   "id": "6b8d2b69",
   "metadata": {},
   "outputs": [],
   "source": [
    "final_df = spark.sql(\"\"\"\n",
    "SELECT\n",
    "    *\n",
    "FROM\n",
    "    etl_1\n",
    "WHERE 1=1\n",
    "AND hvfhs_license_num = 'HV0003'\n",
    "\"\"\")"
   ]
  },
  {
   "cell_type": "code",
   "execution_count": 227,
   "id": "d9421b07",
   "metadata": {},
   "outputs": [
    {
     "name": "stdout",
     "output_type": "stream",
     "text": [
      "+-----------------+--------------------+---------------+----------------+------------+------------+-------+--------+\n",
      "|hvfhs_license_num|dispatching_base_num|pickup_datetime|dropoff_datetime|PULocationID|DOLocationID|SR_Flag|operator|\n",
      "+-----------------+--------------------+---------------+----------------+------------+------------+-------+--------+\n",
      "|           HV0003|              B02682|     2021-01-01|      2021-01-01|         230|         166|   null|     ZHE|\n",
      "|           HV0003|              B02682|     2021-01-01|      2021-01-01|         152|         167|   null|     ZHE|\n",
      "|           HV0003|              B02764|     2021-01-01|      2021-01-01|         233|         142|   null|     ZHE|\n",
      "|           HV0003|              B02764|     2021-01-01|      2021-01-01|         142|         143|   null|     ZHE|\n",
      "|           HV0003|              B02764|     2021-01-01|      2021-01-01|         143|          78|   null|     ZHE|\n",
      "|           HV0003|              B02764|     2021-01-01|      2021-01-01|          71|         226|   null|     ZHE|\n",
      "|           HV0003|              B02875|     2021-01-01|      2021-01-01|         112|         255|   null|     ZHE|\n",
      "|           HV0003|              B02875|     2021-01-01|      2021-01-01|         255|         232|   null|     ZHE|\n",
      "|           HV0003|              B02875|     2021-01-01|      2021-01-01|         232|         198|   null|     ZHE|\n",
      "|           HV0003|              B02835|     2021-01-01|      2021-01-01|         113|          48|   null|     ZHE|\n",
      "|           HV0003|              B02835|     2021-01-01|      2021-01-01|         239|          75|   null|     ZHE|\n",
      "|           HV0003|              B02682|     2021-01-01|      2021-01-01|         256|         148|   null|     ZHE|\n",
      "|           HV0003|              B02682|     2021-01-01|      2021-01-01|          79|          80|   null|     ZHE|\n",
      "|           HV0003|              B02682|     2021-01-01|      2021-01-01|          17|         217|   null|     ZHE|\n",
      "|           HV0003|              B02836|     2021-01-01|      2021-01-01|          22|          22|   null|     ZHE|\n",
      "|           HV0003|              B02836|     2021-01-01|      2021-01-01|         146|         129|   null|     ZHE|\n",
      "|           HV0003|              B02512|     2021-01-01|      2021-01-01|          37|         225|   null|     ZHE|\n",
      "|           HV0003|              B02512|     2021-01-01|      2021-01-01|         225|          47|   null|     ZHE|\n",
      "|           HV0003|              B02764|     2021-01-01|      2021-01-01|          81|          32|   null|     ZHE|\n",
      "|           HV0003|              B02764|     2021-01-01|      2021-01-01|          32|         126|   null|     ZHE|\n",
      "+-----------------+--------------------+---------------+----------------+------------+------------+-------+--------+\n",
      "only showing top 20 rows\n",
      "\n"
     ]
    }
   ],
   "source": [
    "final_df.show()"
   ]
  },
  {
   "cell_type": "code",
   "execution_count": 228,
   "id": "a0ac81f6",
   "metadata": {},
   "outputs": [
    {
     "ename": "Py4JJavaError",
     "evalue": "An error occurred while calling o1127.parquet.\n: java.lang.RuntimeException: java.lang.ClassNotFoundException: Class com.google.cloud.hadoop.fs.gcs.GoogleHadoopFileSystem not found\n\tat org.apache.hadoop.conf.Configuration.getClass(Configuration.java:2688)\n\tat org.apache.hadoop.fs.FileSystem.getFileSystemClass(FileSystem.java:3431)\n\tat org.apache.hadoop.fs.FileSystem.createFileSystem(FileSystem.java:3466)\n\tat org.apache.hadoop.fs.FileSystem.access$300(FileSystem.java:174)\n\tat org.apache.hadoop.fs.FileSystem$Cache.getInternal(FileSystem.java:3574)\n\tat org.apache.hadoop.fs.FileSystem$Cache.get(FileSystem.java:3521)\n\tat org.apache.hadoop.fs.FileSystem.get(FileSystem.java:540)\n\tat org.apache.hadoop.fs.Path.getFileSystem(Path.java:365)\n\tat org.apache.spark.sql.execution.datasources.DataSource.planForWritingFileFormat(DataSource.scala:454)\n\tat org.apache.spark.sql.execution.datasources.DataSource.planForWriting(DataSource.scala:530)\n\tat org.apache.spark.sql.DataFrameWriter.saveToV1Source(DataFrameWriter.scala:387)\n\tat org.apache.spark.sql.DataFrameWriter.saveInternal(DataFrameWriter.scala:360)\n\tat org.apache.spark.sql.DataFrameWriter.save(DataFrameWriter.scala:239)\n\tat org.apache.spark.sql.DataFrameWriter.parquet(DataFrameWriter.scala:789)\n\tat java.base/jdk.internal.reflect.NativeMethodAccessorImpl.invoke0(Native Method)\n\tat java.base/jdk.internal.reflect.NativeMethodAccessorImpl.invoke(NativeMethodAccessorImpl.java:62)\n\tat java.base/jdk.internal.reflect.DelegatingMethodAccessorImpl.invoke(DelegatingMethodAccessorImpl.java:43)\n\tat java.base/java.lang.reflect.Method.invoke(Method.java:566)\n\tat py4j.reflection.MethodInvoker.invoke(MethodInvoker.java:244)\n\tat py4j.reflection.ReflectionEngine.invoke(ReflectionEngine.java:374)\n\tat py4j.Gateway.invoke(Gateway.java:282)\n\tat py4j.commands.AbstractCommand.invokeMethod(AbstractCommand.java:132)\n\tat py4j.commands.CallCommand.execute(CallCommand.java:79)\n\tat py4j.ClientServerConnection.waitForCommands(ClientServerConnection.java:182)\n\tat py4j.ClientServerConnection.run(ClientServerConnection.java:106)\n\tat java.base/java.lang.Thread.run(Thread.java:834)\nCaused by: java.lang.ClassNotFoundException: Class com.google.cloud.hadoop.fs.gcs.GoogleHadoopFileSystem not found\n\tat org.apache.hadoop.conf.Configuration.getClassByName(Configuration.java:2592)\n\tat org.apache.hadoop.conf.Configuration.getClass(Configuration.java:2686)\n\t... 25 more\n",
     "output_type": "error",
     "traceback": [
      "\u001b[0;31m---------------------------------------------------------------------------\u001b[0m",
      "\u001b[0;31mPy4JJavaError\u001b[0m                             Traceback (most recent call last)",
      "Cell \u001b[0;32mIn[228], line 1\u001b[0m\n\u001b[0;32m----> 1\u001b[0m final_df\u001b[38;5;241m.\u001b[39mwrite\u001b[38;5;241m.\u001b[39mparquet(\u001b[38;5;124m\"\u001b[39m\u001b[38;5;124mgs://nyc-tlc-backup/test_output\u001b[39m\u001b[38;5;124m\"\u001b[39m, mode\u001b[38;5;241m=\u001b[39m\u001b[38;5;124m\"\u001b[39m\u001b[38;5;124moverwrite\u001b[39m\u001b[38;5;124m\"\u001b[39m)\n",
      "File \u001b[0;32m~/spark/spark-3.4.2-bin-hadoop3/python/pyspark/sql/readwriter.py:1656\u001b[0m, in \u001b[0;36mDataFrameWriter.parquet\u001b[0;34m(self, path, mode, partitionBy, compression)\u001b[0m\n\u001b[1;32m   1654\u001b[0m     \u001b[38;5;28mself\u001b[39m\u001b[38;5;241m.\u001b[39mpartitionBy(partitionBy)\n\u001b[1;32m   1655\u001b[0m \u001b[38;5;28mself\u001b[39m\u001b[38;5;241m.\u001b[39m_set_opts(compression\u001b[38;5;241m=\u001b[39mcompression)\n\u001b[0;32m-> 1656\u001b[0m \u001b[38;5;28mself\u001b[39m\u001b[38;5;241m.\u001b[39m_jwrite\u001b[38;5;241m.\u001b[39mparquet(path)\n",
      "File \u001b[0;32m~/spark/spark-3.4.2-bin-hadoop3/python/lib/py4j-0.10.9.7-src.zip/py4j/java_gateway.py:1322\u001b[0m, in \u001b[0;36mJavaMember.__call__\u001b[0;34m(self, *args)\u001b[0m\n\u001b[1;32m   1316\u001b[0m command \u001b[38;5;241m=\u001b[39m proto\u001b[38;5;241m.\u001b[39mCALL_COMMAND_NAME \u001b[38;5;241m+\u001b[39m\\\n\u001b[1;32m   1317\u001b[0m     \u001b[38;5;28mself\u001b[39m\u001b[38;5;241m.\u001b[39mcommand_header \u001b[38;5;241m+\u001b[39m\\\n\u001b[1;32m   1318\u001b[0m     args_command \u001b[38;5;241m+\u001b[39m\\\n\u001b[1;32m   1319\u001b[0m     proto\u001b[38;5;241m.\u001b[39mEND_COMMAND_PART\n\u001b[1;32m   1321\u001b[0m answer \u001b[38;5;241m=\u001b[39m \u001b[38;5;28mself\u001b[39m\u001b[38;5;241m.\u001b[39mgateway_client\u001b[38;5;241m.\u001b[39msend_command(command)\n\u001b[0;32m-> 1322\u001b[0m return_value \u001b[38;5;241m=\u001b[39m get_return_value(\n\u001b[1;32m   1323\u001b[0m     answer, \u001b[38;5;28mself\u001b[39m\u001b[38;5;241m.\u001b[39mgateway_client, \u001b[38;5;28mself\u001b[39m\u001b[38;5;241m.\u001b[39mtarget_id, \u001b[38;5;28mself\u001b[39m\u001b[38;5;241m.\u001b[39mname)\n\u001b[1;32m   1325\u001b[0m \u001b[38;5;28;01mfor\u001b[39;00m temp_arg \u001b[38;5;129;01min\u001b[39;00m temp_args:\n\u001b[1;32m   1326\u001b[0m     \u001b[38;5;28;01mif\u001b[39;00m \u001b[38;5;28mhasattr\u001b[39m(temp_arg, \u001b[38;5;124m\"\u001b[39m\u001b[38;5;124m_detach\u001b[39m\u001b[38;5;124m\"\u001b[39m):\n",
      "File \u001b[0;32m~/spark/spark-3.4.2-bin-hadoop3/python/pyspark/errors/exceptions/captured.py:169\u001b[0m, in \u001b[0;36mcapture_sql_exception.<locals>.deco\u001b[0;34m(*a, **kw)\u001b[0m\n\u001b[1;32m    167\u001b[0m \u001b[38;5;28;01mdef\u001b[39;00m \u001b[38;5;21mdeco\u001b[39m(\u001b[38;5;241m*\u001b[39ma: Any, \u001b[38;5;241m*\u001b[39m\u001b[38;5;241m*\u001b[39mkw: Any) \u001b[38;5;241m-\u001b[39m\u001b[38;5;241m>\u001b[39m Any:\n\u001b[1;32m    168\u001b[0m     \u001b[38;5;28;01mtry\u001b[39;00m:\n\u001b[0;32m--> 169\u001b[0m         \u001b[38;5;28;01mreturn\u001b[39;00m f(\u001b[38;5;241m*\u001b[39ma, \u001b[38;5;241m*\u001b[39m\u001b[38;5;241m*\u001b[39mkw)\n\u001b[1;32m    170\u001b[0m     \u001b[38;5;28;01mexcept\u001b[39;00m Py4JJavaError \u001b[38;5;28;01mas\u001b[39;00m e:\n\u001b[1;32m    171\u001b[0m         converted \u001b[38;5;241m=\u001b[39m convert_exception(e\u001b[38;5;241m.\u001b[39mjava_exception)\n",
      "File \u001b[0;32m~/spark/spark-3.4.2-bin-hadoop3/python/lib/py4j-0.10.9.7-src.zip/py4j/protocol.py:326\u001b[0m, in \u001b[0;36mget_return_value\u001b[0;34m(answer, gateway_client, target_id, name)\u001b[0m\n\u001b[1;32m    324\u001b[0m value \u001b[38;5;241m=\u001b[39m OUTPUT_CONVERTER[\u001b[38;5;28mtype\u001b[39m](answer[\u001b[38;5;241m2\u001b[39m:], gateway_client)\n\u001b[1;32m    325\u001b[0m \u001b[38;5;28;01mif\u001b[39;00m answer[\u001b[38;5;241m1\u001b[39m] \u001b[38;5;241m==\u001b[39m REFERENCE_TYPE:\n\u001b[0;32m--> 326\u001b[0m     \u001b[38;5;28;01mraise\u001b[39;00m Py4JJavaError(\n\u001b[1;32m    327\u001b[0m         \u001b[38;5;124m\"\u001b[39m\u001b[38;5;124mAn error occurred while calling \u001b[39m\u001b[38;5;132;01m{0}\u001b[39;00m\u001b[38;5;132;01m{1}\u001b[39;00m\u001b[38;5;132;01m{2}\u001b[39;00m\u001b[38;5;124m.\u001b[39m\u001b[38;5;130;01m\\n\u001b[39;00m\u001b[38;5;124m\"\u001b[39m\u001b[38;5;241m.\u001b[39m\n\u001b[1;32m    328\u001b[0m         \u001b[38;5;28mformat\u001b[39m(target_id, \u001b[38;5;124m\"\u001b[39m\u001b[38;5;124m.\u001b[39m\u001b[38;5;124m\"\u001b[39m, name), value)\n\u001b[1;32m    329\u001b[0m \u001b[38;5;28;01melse\u001b[39;00m:\n\u001b[1;32m    330\u001b[0m     \u001b[38;5;28;01mraise\u001b[39;00m Py4JError(\n\u001b[1;32m    331\u001b[0m         \u001b[38;5;124m\"\u001b[39m\u001b[38;5;124mAn error occurred while calling \u001b[39m\u001b[38;5;132;01m{0}\u001b[39;00m\u001b[38;5;132;01m{1}\u001b[39;00m\u001b[38;5;132;01m{2}\u001b[39;00m\u001b[38;5;124m. Trace:\u001b[39m\u001b[38;5;130;01m\\n\u001b[39;00m\u001b[38;5;132;01m{3}\u001b[39;00m\u001b[38;5;130;01m\\n\u001b[39;00m\u001b[38;5;124m\"\u001b[39m\u001b[38;5;241m.\u001b[39m\n\u001b[1;32m    332\u001b[0m         \u001b[38;5;28mformat\u001b[39m(target_id, \u001b[38;5;124m\"\u001b[39m\u001b[38;5;124m.\u001b[39m\u001b[38;5;124m\"\u001b[39m, name, value))\n",
      "\u001b[0;31mPy4JJavaError\u001b[0m: An error occurred while calling o1127.parquet.\n: java.lang.RuntimeException: java.lang.ClassNotFoundException: Class com.google.cloud.hadoop.fs.gcs.GoogleHadoopFileSystem not found\n\tat org.apache.hadoop.conf.Configuration.getClass(Configuration.java:2688)\n\tat org.apache.hadoop.fs.FileSystem.getFileSystemClass(FileSystem.java:3431)\n\tat org.apache.hadoop.fs.FileSystem.createFileSystem(FileSystem.java:3466)\n\tat org.apache.hadoop.fs.FileSystem.access$300(FileSystem.java:174)\n\tat org.apache.hadoop.fs.FileSystem$Cache.getInternal(FileSystem.java:3574)\n\tat org.apache.hadoop.fs.FileSystem$Cache.get(FileSystem.java:3521)\n\tat org.apache.hadoop.fs.FileSystem.get(FileSystem.java:540)\n\tat org.apache.hadoop.fs.Path.getFileSystem(Path.java:365)\n\tat org.apache.spark.sql.execution.datasources.DataSource.planForWritingFileFormat(DataSource.scala:454)\n\tat org.apache.spark.sql.execution.datasources.DataSource.planForWriting(DataSource.scala:530)\n\tat org.apache.spark.sql.DataFrameWriter.saveToV1Source(DataFrameWriter.scala:387)\n\tat org.apache.spark.sql.DataFrameWriter.saveInternal(DataFrameWriter.scala:360)\n\tat org.apache.spark.sql.DataFrameWriter.save(DataFrameWriter.scala:239)\n\tat org.apache.spark.sql.DataFrameWriter.parquet(DataFrameWriter.scala:789)\n\tat java.base/jdk.internal.reflect.NativeMethodAccessorImpl.invoke0(Native Method)\n\tat java.base/jdk.internal.reflect.NativeMethodAccessorImpl.invoke(NativeMethodAccessorImpl.java:62)\n\tat java.base/jdk.internal.reflect.DelegatingMethodAccessorImpl.invoke(DelegatingMethodAccessorImpl.java:43)\n\tat java.base/java.lang.reflect.Method.invoke(Method.java:566)\n\tat py4j.reflection.MethodInvoker.invoke(MethodInvoker.java:244)\n\tat py4j.reflection.ReflectionEngine.invoke(ReflectionEngine.java:374)\n\tat py4j.Gateway.invoke(Gateway.java:282)\n\tat py4j.commands.AbstractCommand.invokeMethod(AbstractCommand.java:132)\n\tat py4j.commands.CallCommand.execute(CallCommand.java:79)\n\tat py4j.ClientServerConnection.waitForCommands(ClientServerConnection.java:182)\n\tat py4j.ClientServerConnection.run(ClientServerConnection.java:106)\n\tat java.base/java.lang.Thread.run(Thread.java:834)\nCaused by: java.lang.ClassNotFoundException: Class com.google.cloud.hadoop.fs.gcs.GoogleHadoopFileSystem not found\n\tat org.apache.hadoop.conf.Configuration.getClassByName(Configuration.java:2592)\n\tat org.apache.hadoop.conf.Configuration.getClass(Configuration.java:2686)\n\t... 25 more\n"
     ]
    }
   ],
   "source": [
    "final_df.write.parquet(\"gs://nyc-tlc-backup/test_output\", mode=\"overwrite\")"
   ]
  },
  {
   "cell_type": "code",
   "execution_count": 215,
   "id": "c80a0dbe",
   "metadata": {},
   "outputs": [],
   "source": [
    "#spark.stop()"
   ]
  },
  {
   "cell_type": "code",
   "execution_count": 216,
   "id": "7e19e91f",
   "metadata": {},
   "outputs": [],
   "source": [
    "#sc.stop()"
   ]
  }
 ],
 "metadata": {
  "kernelspec": {
   "display_name": "Python 3 (ipykernel)",
   "language": "python",
   "name": "python3"
  },
  "language_info": {
   "codemirror_mode": {
    "name": "ipython",
    "version": 3
   },
   "file_extension": ".py",
   "mimetype": "text/x-python",
   "name": "python",
   "nbconvert_exporter": "python",
   "pygments_lexer": "ipython3",
   "version": "3.11.5"
  }
 },
 "nbformat": 4,
 "nbformat_minor": 5
}
