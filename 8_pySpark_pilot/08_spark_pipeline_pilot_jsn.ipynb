{
 "cells": [
  {
   "cell_type": "code",
   "execution_count": 2,
   "id": "85395481",
   "metadata": {},
   "outputs": [],
   "source": [
    "import pyspark\n",
    "from pyspark.sql import SparkSession"
   ]
  },
  {
   "cell_type": "code",
   "execution_count": 5,
   "id": "1bc9c691",
   "metadata": {},
   "outputs": [
    {
     "name": "stderr",
     "output_type": "stream",
     "text": [
      "Setting default log level to \"WARN\".\n",
      "To adjust logging level use sc.setLogLevel(newLevel). For SparkR, use setLogLevel(newLevel).\n",
      "24/03/14 21:49:17 WARN NativeCodeLoader: Unable to load native-hadoop library for your platform... using builtin-java classes where applicable\n"
     ]
    }
   ],
   "source": [
    "spark = SparkSession.builder.master(\"local[*]\").appName('test_json').getOrCreate()"
   ]
  },
  {
   "cell_type": "code",
   "execution_count": 9,
   "id": "abfbfd8e",
   "metadata": {},
   "outputs": [],
   "source": [
    "df_raw = spark.read.option(\"header\", \"true\").json('test_struc_data.json')"
   ]
  },
  {
   "cell_type": "code",
   "execution_count": 10,
   "id": "ccc2bbe3",
   "metadata": {},
   "outputs": [
    {
     "name": "stdout",
     "output_type": "stream",
     "text": [
      "+---+---------+------+\n",
      "|age|     name|salary|\n",
      "+---+---------+------+\n",
      "| 30|     John|  5000|\n",
      "| 35|     Emma|  6000|\n",
      "| 28|  Michael|  4800|\n",
      "| 40|   Sophia|  7000|\n",
      "| 25|    James|  4500|\n",
      "| 32|   Olivia|  5500|\n",
      "| 38|  William|  6500|\n",
      "| 27|      Ava|  4700|\n",
      "| 33|Alexander|  5800|\n",
      "| 36|      Mia|  6200|\n",
      "| 29|Charlotte|  4900|\n",
      "| 31| Benjamin|  5300|\n",
      "| 34|   Evelyn|  5600|\n",
      "| 39|   Daniel|  6700|\n",
      "| 26|   Harper|  4600|\n",
      "| 32|Alexander|  5500|\n",
      "| 37| Isabella|  6300|\n",
      "| 29|   Sophia|  4900|\n",
      "| 34|    Mason|  5600|\n",
      "| 31|   Amelia|  5300|\n",
      "+---+---------+------+\n",
      "only showing top 20 rows\n",
      "\n",
      "<class 'pyspark.sql.dataframe.DataFrame'>\n"
     ]
    }
   ],
   "source": [
    "df_raw.show()\n",
    "print(type(df_raw))"
   ]
  },
  {
   "cell_type": "code",
   "execution_count": 11,
   "id": "bc76a413",
   "metadata": {},
   "outputs": [
    {
     "data": {
      "text/plain": [
       "StructType([StructField('age', LongType(), True), StructField('name', StringType(), True), StructField('salary', LongType(), True)])"
      ]
     },
     "execution_count": 11,
     "metadata": {},
     "output_type": "execute_result"
    }
   ],
   "source": [
    "df_raw.schema"
   ]
  },
  {
   "cell_type": "code",
   "execution_count": 15,
   "id": "16e79d5a",
   "metadata": {},
   "outputs": [],
   "source": [
    "from pyspark.sql.functions import col\n",
    "\n",
    "df_long2int = df_raw.withColumn(\"age\", col(\"age\").cast(\"integer\"))"
   ]
  },
  {
   "cell_type": "code",
   "execution_count": 16,
   "id": "7b314f88",
   "metadata": {},
   "outputs": [
    {
     "data": {
      "text/plain": [
       "StructType([StructField('age', IntegerType(), True), StructField('name', StringType(), True), StructField('salary', LongType(), True)])"
      ]
     },
     "execution_count": 16,
     "metadata": {},
     "output_type": "execute_result"
    }
   ],
   "source": [
    "df_long2int.schema"
   ]
  },
  {
   "cell_type": "code",
   "execution_count": 17,
   "id": "3a26eb03",
   "metadata": {},
   "outputs": [],
   "source": [
    "# pause caffee\n",
    "spark.stop()"
   ]
  },
  {
   "cell_type": "code",
   "execution_count": 47,
   "id": "42151c9e",
   "metadata": {},
   "outputs": [],
   "source": [
    "import pyspark\n",
    "from pyspark.sql.functions import count\n",
    "from pyspark.sql import SparkSession\n",
    "spark = SparkSession.builder.master(\"local[*]\").appName('test').getOrCreate()\n",
    "df_raw = spark.read.text('test_unstruc_data.txt') #header option 需要去掉"
   ]
  },
  {
   "cell_type": "code",
   "execution_count": 49,
   "id": "7227240a",
   "metadata": {},
   "outputs": [
    {
     "name": "stdout",
     "output_type": "stream",
     "text": [
      "DataFrame[value: string]\n",
      "+--------------------+\n",
      "|               value|\n",
      "+--------------------+\n",
      "|[\"apple\",\"banana\"...|\n",
      "+--------------------+\n",
      "\n"
     ]
    }
   ],
   "source": [
    "print(df_raw)\n",
    "df_raw.show()"
   ]
  },
  {
   "cell_type": "code",
   "execution_count": 51,
   "id": "14886f27",
   "metadata": {},
   "outputs": [],
   "source": [
    "df_fruits = df_raw.selectExpr(\"explode(split(value, ',')) as fruit\")  #高级"
   ]
  },
  {
   "cell_type": "code",
   "execution_count": 52,
   "id": "2c5c0e1c",
   "metadata": {},
   "outputs": [
    {
     "data": {
      "text/plain": [
       "<bound method DataFrame.show of DataFrame[fruit: string]>"
      ]
     },
     "execution_count": 52,
     "metadata": {},
     "output_type": "execute_result"
    }
   ],
   "source": [
    "df_fruits.show"
   ]
  },
  {
   "cell_type": "code",
   "execution_count": 53,
   "id": "0fd6dce8",
   "metadata": {},
   "outputs": [],
   "source": [
    "df_counts = df_fruits.groupBy(\"fruit\").agg(count(\"*\").alias(\"count\"))"
   ]
  },
  {
   "cell_type": "code",
   "execution_count": 54,
   "id": "b47180e8",
   "metadata": {},
   "outputs": [
    {
     "name": "stdout",
     "output_type": "stream",
     "text": [
      "+--------+-----+\n",
      "|   fruit|count|\n",
      "+--------+-----+\n",
      "|\"banana\"|   10|\n",
      "|\"orange\"|   10|\n",
      "|\"grape\"]|    1|\n",
      "|  \"pear\"|    9|\n",
      "| \"grape\"|    9|\n",
      "|[\"apple\"|    1|\n",
      "| \"apple\"|   10|\n",
      "+--------+-----+\n",
      "\n"
     ]
    }
   ],
   "source": [
    "df_counts.show()"
   ]
  },
  {
   "cell_type": "code",
   "execution_count": 46,
   "id": "288ffafd",
   "metadata": {},
   "outputs": [],
   "source": [
    "spark.stop()"
   ]
  },
  {
   "cell_type": "code",
   "execution_count": 16,
   "id": "ea6274ed",
   "metadata": {},
   "outputs": [],
   "source": [
    "import pyspark\n",
    "from pyspark.sql import SparkSession\n",
    "\n",
    "spark = SparkSession.builder.master(\"local[*]\").getOrCreate()"
   ]
  },
  {
   "cell_type": "code",
   "execution_count": 35,
   "id": "d2ec0ffd",
   "metadata": {},
   "outputs": [],
   "source": [
    "sc = spark.sparkContext\n",
    "rdd = sc.textFile(\"head_{0,1}.csv\")"
   ]
  },
  {
   "cell_type": "code",
   "execution_count": 36,
   "id": "0d7f3ac0",
   "metadata": {},
   "outputs": [
    {
     "data": {
      "text/plain": [
       "3"
      ]
     },
     "execution_count": 36,
     "metadata": {},
     "output_type": "execute_result"
    }
   ],
   "source": [
    "rdd.collect()\n",
    "rdd.getNumPartitions()"
   ]
  },
  {
   "cell_type": "code",
   "execution_count": 45,
   "id": "8eb31e08",
   "metadata": {},
   "outputs": [
    {
     "name": "stdout",
     "output_type": "stream",
     "text": [
      "['head_1.csv', 'head_2.csv']\n"
     ]
    },
    {
     "data": {
      "text/plain": [
       "2"
      ]
     },
     "execution_count": 45,
     "metadata": {},
     "output_type": "execute_result"
    }
   ],
   "source": [
    "start_index = 1\n",
    "end_index = 2\n",
    "file_pattern = \"head_{}.csv\"\n",
    "file = [file_pattern.format(i) for i in range(start_index,end_index+1)]\n",
    "print(file)\n",
    "\n",
    "sc = spark.sparkContext\n",
    "rdd = sc.textFile(','.join(file))\n",
    "rdd.collect()\n",
    "rdd.getNumPartitions()"
   ]
  },
  {
   "cell_type": "code",
   "execution_count": 1,
   "id": "fb982d76",
   "metadata": {},
   "outputs": [
    {
     "name": "stderr",
     "output_type": "stream",
     "text": [
      "Setting default log level to \"WARN\".\n",
      "To adjust logging level use sc.setLogLevel(newLevel). For SparkR, use setLogLevel(newLevel).\n",
      "24/03/16 23:28:26 WARN NativeCodeLoader: Unable to load native-hadoop library for your platform... using builtin-java classes where applicable\n"
     ]
    }
   ],
   "source": [
    "import pyspark\n",
    "from pyspark.sql import SparkSession\n",
    "\n",
    "spark = SparkSession.builder.master(\"local[*]\").getOrCreate()\n",
    "sc = spark.sparkContext\n",
    "data = [(\"order_1\", \"date_1\", \"tom\", \"US\"),\n",
    "        (\"order_2\", \"date_2\", \"alice\", \"DE\"),\n",
    "        (\"order_3\", \"date_3\", \"bob\"),\n",
    "        (\"UK\", \"order_4\", \"date_4\", \"Kate\", \"US\")]"
   ]
  },
  {
   "cell_type": "code",
   "execution_count": 32,
   "id": "0ee05f5d",
   "metadata": {},
   "outputs": [],
   "source": [
    "data = [(\"order_1\", \"date_1\", \"tom\", \"US\"),\n",
    "        (\"order_2\", \"date_2\", \"alice\", \"DE\"),\n",
    "        (\"order_3\", \"date_3\", \"bob\"),\n",
    "        (\"UK\", \"order_4\", \"date_4\", \"Kate\", \"US\")]\n",
    "rdd_raw = sc.parallelize(data)"
   ]
  },
  {
   "cell_type": "code",
   "execution_count": 33,
   "id": "7a6371fb",
   "metadata": {},
   "outputs": [],
   "source": [
    "flattened_rdd = rdd_raw.flatMap(lambda x: x)"
   ]
  },
  {
   "cell_type": "code",
   "execution_count": 34,
   "id": "d8d10ea8",
   "metadata": {},
   "outputs": [
    {
     "name": "stderr",
     "output_type": "stream",
     "text": [
      "\r",
      "[Stage 19:===========================================>              (3 + 1) / 4]\r",
      "\r",
      "                                                                                \r"
     ]
    },
    {
     "data": {
      "text/plain": [
       "['order_1',\n",
       " 'date_1',\n",
       " 'tom',\n",
       " 'US',\n",
       " 'order_2',\n",
       " 'date_2',\n",
       " 'alice',\n",
       " 'DE',\n",
       " 'order_3',\n",
       " 'date_3',\n",
       " 'bob',\n",
       " 'UK',\n",
       " 'order_4',\n",
       " 'date_4',\n",
       " 'Kate',\n",
       " 'US']"
      ]
     },
     "execution_count": 34,
     "metadata": {},
     "output_type": "execute_result"
    }
   ],
   "source": [
    "zip_rdd = flattened_rdd.zipWithIndex()"
   ]
  },
  {
   "cell_type": "code",
   "execution_count": 37,
   "id": "f6127f11",
   "metadata": {},
   "outputs": [],
   "source": [
    "grouped_rdd = zip_rdd.groupBy(lambda x: x[1] // 4).values()"
   ]
  },
  {
   "cell_type": "code",
   "execution_count": 38,
   "id": "6496384f",
   "metadata": {},
   "outputs": [
    {
     "data": {
      "text/plain": [
       "[<pyspark.resultiterable.ResultIterable at 0x7fe9469a9750>,\n",
       " <pyspark.resultiterable.ResultIterable at 0x7fe9543f3010>,\n",
       " <pyspark.resultiterable.ResultIterable at 0x7fe9454bc290>,\n",
       " <pyspark.resultiterable.ResultIterable at 0x7fe945374d50>]"
      ]
     },
     "execution_count": 38,
     "metadata": {},
     "output_type": "execute_result"
    }
   ],
   "source": [
    "grouped_rdd.collect()"
   ]
  },
  {
   "cell_type": "code",
   "execution_count": 21,
   "id": "101c6f2e",
   "metadata": {},
   "outputs": [
    {
     "data": {
      "text/plain": [
       "[['order_1', 'date_1', 'tom', 'US'],\n",
       " ['order_2', 'date_2', 'alice', 'DE'],\n",
       " ['order_3', 'date_3', 'bob'],\n",
       " ['UK', 'order_4', 'date_4', 'Kate', 'US']]"
      ]
     },
     "execution_count": 21,
     "metadata": {},
     "output_type": "execute_result"
    }
   ],
   "source": [
    "grouped_rdd.collect()"
   ]
  },
  {
   "cell_type": "code",
   "execution_count": 11,
   "id": "c6420b1e",
   "metadata": {},
   "outputs": [
    {
     "name": "stderr",
     "output_type": "stream",
     "text": [
      "                                                                                \r"
     ]
    },
    {
     "data": {
      "text/plain": [
       "[(0, <pyspark.resultiterable.ResultIterable at 0x7fe946a37750>),\n",
       " (4, <pyspark.resultiterable.ResultIterable at 0x7fe9543f1590>),\n",
       " (8, <pyspark.resultiterable.ResultIterable at 0x7fe946925c90>),\n",
       " (12, <pyspark.resultiterable.ResultIterable at 0x7fe9543f3690>),\n",
       " (1, <pyspark.resultiterable.ResultIterable at 0x7fe94691c110>),\n",
       " (5, <pyspark.resultiterable.ResultIterable at 0x7fe94691c210>),\n",
       " (9, <pyspark.resultiterable.ResultIterable at 0x7fe94691c350>),\n",
       " (13, <pyspark.resultiterable.ResultIterable at 0x7fe94691c3d0>),\n",
       " (2, <pyspark.resultiterable.ResultIterable at 0x7fe94691c290>),\n",
       " (6, <pyspark.resultiterable.ResultIterable at 0x7fe95da54610>),\n",
       " (10, <pyspark.resultiterable.ResultIterable at 0x7fe946927f90>),\n",
       " (14, <pyspark.resultiterable.ResultIterable at 0x7fe94691c550>),\n",
       " (3, <pyspark.resultiterable.ResultIterable at 0x7fe94691c5d0>),\n",
       " (7, <pyspark.resultiterable.ResultIterable at 0x7fe95da54810>),\n",
       " (11, <pyspark.resultiterable.ResultIterable at 0x7fe94691c850>),\n",
       " (15, <pyspark.resultiterable.ResultIterable at 0x7fe95da548d0>)]"
      ]
     },
     "execution_count": 11,
     "metadata": {},
     "output_type": "execute_result"
    }
   ],
   "source": []
  },
  {
   "cell_type": "code",
   "execution_count": 18,
   "id": "c4bd47e5",
   "metadata": {},
   "outputs": [],
   "source": [
    "cleaned_rdd = grouped_rdd.map(lambda x: tuple(v[0] for v in x[1]))"
   ]
  },
  {
   "cell_type": "code",
   "execution_count": 19,
   "id": "1eadd2c1",
   "metadata": {},
   "outputs": [
    {
     "name": "stderr",
     "output_type": "stream",
     "text": [
      "\r",
      "[Stage 11:==============>                                           (1 + 3) / 4]\r",
      "\r",
      "                                                                                \r"
     ]
    },
    {
     "data": {
      "text/plain": [
       "[('order_1',),\n",
       " ('order_2',),\n",
       " ('order_3',),\n",
       " ('order_4',),\n",
       " ('date_1',),\n",
       " ('date_2',),\n",
       " ('date_3',),\n",
       " ('date_4',),\n",
       " ('tom',),\n",
       " ('alice',),\n",
       " ('bob',),\n",
       " ('Kate',),\n",
       " ('US',),\n",
       " ('DE',),\n",
       " ('UK',),\n",
       " ('US',)]"
      ]
     },
     "execution_count": 19,
     "metadata": {},
     "output_type": "execute_result"
    }
   ],
   "source": [
    "cleaned_rdd.collect()"
   ]
  },
  {
   "cell_type": "code",
   "execution_count": null,
   "id": "b963be98",
   "metadata": {},
   "outputs": [],
   "source": []
  }
 ],
 "metadata": {
  "kernelspec": {
   "display_name": "Python 3 (ipykernel)",
   "language": "python",
   "name": "python3"
  },
  "language_info": {
   "codemirror_mode": {
    "name": "ipython",
    "version": 3
   },
   "file_extension": ".py",
   "mimetype": "text/x-python",
   "name": "python",
   "nbconvert_exporter": "python",
   "pygments_lexer": "ipython3",
   "version": "3.11.5"
  }
 },
 "nbformat": 4,
 "nbformat_minor": 5
}
