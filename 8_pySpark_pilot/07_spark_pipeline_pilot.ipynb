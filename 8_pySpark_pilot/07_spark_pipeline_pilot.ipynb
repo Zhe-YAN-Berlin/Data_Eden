{
 "cells": [
  {
   "cell_type": "code",
   "execution_count": 1,
   "id": "f8734969",
   "metadata": {},
   "outputs": [
    {
     "name": "stderr",
     "output_type": "stream",
     "text": [
      "24/03/14 17:18:20 WARN NativeCodeLoader: Unable to load native-hadoop library for your platform... using builtin-java classes where applicable\n",
      "Setting default log level to \"WARN\".\n",
      "To adjust logging level use sc.setLogLevel(newLevel). For SparkR, use setLogLevel(newLevel).\n",
      "                                                                                \r"
     ]
    }
   ],
   "source": [
    "import pyspark\n",
    "from pyspark.sql import SparkSession\n",
    "from pyspark.conf import SparkConf\n",
    "from pyspark.context import SparkContext\n",
    "\n",
    "credentials_location = '/home/datatalks_jan/.google/credentials/google_credentials.json'\n",
    "\n",
    "conf = SparkConf() \\\n",
    "    .setMaster('local[*]') \\\n",
    "    .setAppName('test_again') \\\n",
    "    .set(\"spark.jars\", \"./lib/gcs-connector-hadoop3-2.2.5.jar\") \\\n",
    "    .set(\"spark.hadoop.google.cloud.auth.service.account.enable\", \"true\") \\\n",
    "    .set(\"spark.hadoop.google.cloud.auth.service.account.json.keyfile\", credentials_location)\n",
    "\n",
    "sc = SparkContext(conf=conf)\n",
    "\n",
    "hadoop_conf = sc._jsc.hadoopConfiguration()\n",
    "\n",
    "hadoop_conf.set(\"fs.AbstractFileSystem.gs.impl\",  \"com.google.cloud.hadoop.fs.gcs.GoogleHadoopFS\")\n",
    "hadoop_conf.set(\"fs.gs.impl\", \"com.google.cloud.hadoop.fs.gcs.GoogleHadoopFileSystem\")\n",
    "hadoop_conf.set(\"fs.gs.auth.service.account.json.keyfile\", credentials_location)\n",
    "hadoop_conf.set(\"fs.gs.auth.service.account.enable\", \"true\")\n",
    "\n",
    "spark = SparkSession.builder \\\n",
    "    .config(conf=sc.getConf()) \\\n",
    "    .getOrCreate()\n",
    "\n",
    "df_green = spark.read.parquet('gs://nyc-tlc-backup/pq/green/*/*') #测试是否可以读"
   ]
  },
  {
   "cell_type": "code",
   "execution_count": 2,
   "id": "2f2aa6d8",
   "metadata": {},
   "outputs": [
    {
     "name": "stderr",
     "output_type": "stream",
     "text": [
      "\r",
      "[Stage 1:>                                                          (0 + 1) / 1]\r"
     ]
    },
    {
     "name": "stdout",
     "output_type": "stream",
     "text": [
      "+--------+--------------------+---------------------+------------------+----------+------------+------------+---------------+-------------+-----------+-----+-------+----------+------------+---------+---------------------+------------+------------+---------+--------------------+\n",
      "|VendorID|lpep_pickup_datetime|lpep_dropoff_datetime|store_and_fwd_flag|RatecodeID|PULocationID|DOLocationID|passenger_count|trip_distance|fare_amount|extra|mta_tax|tip_amount|tolls_amount|ehail_fee|improvement_surcharge|total_amount|payment_type|trip_type|congestion_surcharge|\n",
      "+--------+--------------------+---------------------+------------------+----------+------------+------------+---------------+-------------+-----------+-----+-------+----------+------------+---------+---------------------+------------+------------+---------+--------------------+\n",
      "|       2| 2020-01-23 13:10:15|  2020-01-23 13:38:16|                 N|         1|          74|         130|              1|        12.77|       36.0|  0.0|    0.5|      2.05|        6.12|     null|                  0.3|       44.97|           1|        1|                 0.0|\n",
      "|    null| 2020-01-20 15:09:00|  2020-01-20 15:46:00|              null|      null|          67|          39|           null|          8.0|       29.9| 2.75|    0.5|       0.0|         0.0|     null|                  0.3|       33.45|        null|     null|                null|\n",
      "|       2| 2020-01-15 20:23:41|  2020-01-15 20:31:18|                 N|         1|         260|         157|              1|         1.27|        7.0|  0.5|    0.5|       0.0|         0.0|     null|                  0.3|         8.3|           2|        1|                 0.0|\n",
      "|       2| 2020-01-05 16:32:26|  2020-01-05 16:40:51|                 N|         1|          82|          83|              1|         1.25|        7.5|  0.0|    0.5|       0.0|         0.0|     null|                  0.3|         8.3|           2|        1|                 0.0|\n",
      "|       2| 2020-01-29 19:22:42|  2020-01-29 19:31:02|                 N|         1|         166|          42|              1|         1.84|        8.0|  1.0|    0.5|      2.94|         0.0|     null|                  0.3|       12.74|           1|        1|                 0.0|\n",
      "|       2| 2020-01-15 11:07:42|  2020-01-15 11:11:31|                 N|         1|         179|         223|              2|         0.76|        5.0|  0.0|    0.5|       0.0|         0.0|     null|                  0.3|         5.8|           2|        1|                 0.0|\n",
      "|       2| 2020-01-16 08:22:29|  2020-01-16 08:50:24|                 N|         1|          41|         237|              1|         3.32|       18.5|  0.0|    0.5|       3.0|         0.0|     null|                  0.3|       25.05|           1|        1|                2.75|\n",
      "|       2| 2020-01-28 17:05:28|  2020-01-28 17:26:11|                 N|         1|          75|         161|              1|         2.21|       14.0|  1.0|    0.5|      2.78|         0.0|     null|                  0.3|       21.33|           1|        1|                2.75|\n",
      "|       1| 2020-01-22 14:51:37|  2020-01-22 14:57:29|                 N|         1|         152|         166|              1|          0.9|        6.0|  0.0|    0.5|       1.0|         0.0|     null|                  0.3|         7.8|           1|        1|                 0.0|\n",
      "|       2| 2020-01-31 10:25:04|  2020-01-31 10:52:13|                 N|         1|          75|         234|              1|          6.1|       22.5|  0.0|    0.5|       0.0|         0.0|     null|                  0.3|       26.05|           2|        1|                2.75|\n",
      "|       2| 2020-01-20 15:50:54|  2020-01-20 16:00:06|                 N|         1|          75|          41|              1|         1.74|        8.0|  0.0|    0.5|      1.76|         0.0|     null|                  0.3|       10.56|           1|        1|                 0.0|\n",
      "|       2| 2020-01-31 11:35:17|  2020-01-31 11:44:29|                 N|         1|         260|         226|              5|         1.18|        7.5|  0.0|    0.5|       0.0|         0.0|     null|                  0.3|         8.3|           2|        1|                 0.0|\n",
      "|       1| 2020-01-04 20:44:28|  2020-01-04 20:52:24|                 N|         1|         129|         129|              1|          2.2|        9.5|  0.5|    0.5|       2.0|         0.0|     null|                  0.3|        12.8|           1|        1|                 0.0|\n",
      "|       2| 2020-01-17 21:47:52|  2020-01-17 22:00:07|                 N|         1|          74|         126|              1|         3.04|       12.0|  0.5|    0.5|       0.0|         0.0|     null|                  0.3|        13.3|           2|        1|                 0.0|\n",
      "|       2| 2020-01-21 23:13:47|  2020-01-21 23:17:31|                 N|         1|          61|          61|              1|         0.85|        5.0|  0.5|    0.5|       0.0|         0.0|     null|                  0.3|         6.3|           2|        1|                 0.0|\n",
      "|       2| 2020-01-02 08:11:21|  2020-01-02 08:32:05|                 N|         1|          66|         164|              1|         5.06|       18.5|  0.0|    0.5|       1.5|         0.0|     null|                  0.3|       23.55|           1|        1|                2.75|\n",
      "|       2| 2020-01-27 02:59:20|  2020-01-27 03:05:18|                 N|         1|           7|         179|              1|         1.57|        6.5|  0.5|    0.5|       0.0|         0.0|     null|                  0.3|         7.8|           2|        1|                 0.0|\n",
      "|       2| 2020-01-16 14:39:13|  2020-01-16 15:19:56|                 N|         1|          74|         243|              1|          6.8|       29.5|  0.0|    0.5|       0.0|         0.0|     null|                  0.3|        30.3|           1|        1|                 0.0|\n",
      "|       2| 2020-01-16 18:42:24|  2020-01-16 18:47:59|                 N|         1|          66|          97|              2|         1.06|        6.0|  1.0|    0.5|      1.56|         0.0|     null|                  0.3|        9.36|           1|        1|                 0.0|\n",
      "|       2| 2020-01-03 09:24:54|  2020-01-03 09:33:14|                 N|         1|          61|         225|              1|         1.23|        7.0|  0.0|    0.5|       0.0|         0.0|     null|                  0.3|         7.8|           1|        1|                 0.0|\n",
      "+--------+--------------------+---------------------+------------------+----------+------------+------------+---------------+-------------+-----------+-----+-------+----------+------------+---------+---------------------+------------+------------+---------+--------------------+\n",
      "only showing top 20 rows\n",
      "\n"
     ]
    },
    {
     "name": "stderr",
     "output_type": "stream",
     "text": [
      "\r",
      "                                                                                \r"
     ]
    }
   ],
   "source": [
    "df_green.show()"
   ]
  },
  {
   "cell_type": "code",
   "execution_count": 10,
   "id": "179bbab6",
   "metadata": {},
   "outputs": [],
   "source": [
    "from pyspark.sql import types\n",
    "from pyspark.sql.types import StructType, StructField, StringType, TimestampType, IntegerType\n",
    "\n",
    "schema = StructType ([StructField('hvfhs_license_num',StringType(),True),\\\n",
    "                     StructField('dispatching_base_num',StringType(),True),\\\n",
    "                     StructField('pickup_datetime',TimestampType(),True),\\\n",
    "                     StructField('dropoff_datetime',TimestampType(),True),\\\n",
    "                     StructField('PULocationID',IntegerType(),True),\\\n",
    "                     StructField('DOLocationID',IntegerType(),True),\\\n",
    "                    StructField('SR_Flag',StringType(),True)])"
   ]
  },
  {
   "cell_type": "code",
   "execution_count": 12,
   "id": "b85aab62",
   "metadata": {},
   "outputs": [],
   "source": [
    "raw_data = spark.read.option(\"header\",True).csv(\"/home/datatalks_jan/Data_Eden/8_pySpark_pilot/head_*.csv\", schema=schema)"
   ]
  },
  {
   "cell_type": "code",
   "execution_count": 13,
   "id": "912c6e51",
   "metadata": {},
   "outputs": [
    {
     "name": "stdout",
     "output_type": "stream",
     "text": [
      "root\n",
      " |-- hvfhs_license_num: string (nullable = true)\n",
      " |-- dispatching_base_num: string (nullable = true)\n",
      " |-- pickup_datetime: timestamp (nullable = true)\n",
      " |-- dropoff_datetime: timestamp (nullable = true)\n",
      " |-- PULocationID: integer (nullable = true)\n",
      " |-- DOLocationID: integer (nullable = true)\n",
      " |-- SR_Flag: string (nullable = true)\n",
      "\n"
     ]
    },
    {
     "name": "stderr",
     "output_type": "stream",
     "text": [
      "                                                                                \r"
     ]
    },
    {
     "data": {
      "text/plain": [
       "1002"
      ]
     },
     "execution_count": 13,
     "metadata": {},
     "output_type": "execute_result"
    }
   ],
   "source": [
    "raw_data.printSchema()\n",
    "raw_data.count()"
   ]
  },
  {
   "cell_type": "code",
   "execution_count": 14,
   "id": "7e438984",
   "metadata": {},
   "outputs": [
    {
     "data": {
      "text/plain": [
       "1001"
      ]
     },
     "execution_count": 14,
     "metadata": {},
     "output_type": "execute_result"
    }
   ],
   "source": [
    "data_without_bad = raw_data.filter(raw_data.hvfhs_license_num != \"BAD\") \n",
    "data_without_bad.count()"
   ]
  },
  {
   "cell_type": "code",
   "execution_count": 15,
   "id": "999e3b41",
   "metadata": {},
   "outputs": [
    {
     "data": {
      "text/plain": [
       "1000"
      ]
     },
     "execution_count": 15,
     "metadata": {},
     "output_type": "execute_result"
    }
   ],
   "source": [
    "from pyspark.sql.functions import col, to_date\n",
    "\n",
    "data_older_than_summer_2021 = data_without_bad.filter(col(\"pickup_datetime\") != \"2021-01-01 00:21:08\") \n",
    "data_older_than_summer_2021.count()\n"
   ]
  },
  {
   "cell_type": "code",
   "execution_count": 16,
   "id": "6fb11a69",
   "metadata": {},
   "outputs": [],
   "source": [
    "from pyspark.sql import functions as F\n",
    "\n",
    "data_clean=data_older_than_summer_2021.withColumn('pickup_datetime',F.to_date(data_older_than_summer_2021.pickup_datetime)) \\\n",
    ".withColumn('dropoff_datetime',F.to_date(data_older_than_summer_2021.dropoff_datetime)) \\\n",
    ".withColumn('operator', F.lit('ZHE'))"
   ]
  },
  {
   "cell_type": "code",
   "execution_count": 17,
   "id": "181fec51",
   "metadata": {},
   "outputs": [
    {
     "name": "stdout",
     "output_type": "stream",
     "text": [
      "+-----------------+--------------------+---------------+----------------+------------+------------+-------+--------+\n",
      "|hvfhs_license_num|dispatching_base_num|pickup_datetime|dropoff_datetime|PULocationID|DOLocationID|SR_Flag|operator|\n",
      "+-----------------+--------------------+---------------+----------------+------------+------------+-------+--------+\n",
      "|           HV0003|              B02682|     2021-01-01|      2021-01-01|         230|         166|   null|     ZHE|\n",
      "|           HV0003|              B02682|     2021-01-01|      2021-01-01|         152|         167|   null|     ZHE|\n",
      "|           HV0003|              B02764|     2021-01-01|      2021-01-01|         233|         142|   null|     ZHE|\n",
      "|           HV0003|              B02764|     2021-01-01|      2021-01-01|         142|         143|   null|     ZHE|\n",
      "|           HV0003|              B02764|     2021-01-01|      2021-01-01|         143|          78|   null|     ZHE|\n",
      "|           HV0005|              B02510|     2021-01-01|      2021-01-01|          88|          42|   null|     ZHE|\n",
      "|           HV0005|              B02510|     2021-01-01|      2021-01-01|          42|         151|   null|     ZHE|\n",
      "|           HV0003|              B02764|     2021-01-01|      2021-01-01|          71|         226|   null|     ZHE|\n",
      "|           HV0003|              B02875|     2021-01-01|      2021-01-01|         112|         255|   null|     ZHE|\n",
      "|           HV0003|              B02875|     2021-01-01|      2021-01-01|         255|         232|   null|     ZHE|\n",
      "|           HV0003|              B02875|     2021-01-01|      2021-01-01|         232|         198|   null|     ZHE|\n",
      "|           HV0003|              B02835|     2021-01-01|      2021-01-01|         113|          48|   null|     ZHE|\n",
      "|           HV0003|              B02835|     2021-01-01|      2021-01-01|         239|          75|   null|     ZHE|\n",
      "|           HV0004|              B02800|     2021-01-01|      2021-01-01|         181|         237|   null|     ZHE|\n",
      "|           HV0004|              B02800|     2021-01-01|      2021-01-01|         236|          68|   null|     ZHE|\n",
      "|           HV0003|              B02682|     2021-01-01|      2021-01-01|         256|         148|   null|     ZHE|\n",
      "|           HV0003|              B02682|     2021-01-01|      2021-01-01|          79|          80|   null|     ZHE|\n",
      "|           HV0003|              B02682|     2021-01-01|      2021-01-01|          17|         217|   null|     ZHE|\n",
      "|           HV0005|              B02510|     2021-01-01|      2021-01-01|          62|          29|   null|     ZHE|\n",
      "|           HV0003|              B02836|     2021-01-01|      2021-01-01|          22|          22|   null|     ZHE|\n",
      "+-----------------+--------------------+---------------+----------------+------------+------------+-------+--------+\n",
      "only showing top 20 rows\n",
      "\n"
     ]
    }
   ],
   "source": [
    "data_clean.show()"
   ]
  },
  {
   "cell_type": "code",
   "execution_count": 18,
   "id": "fa306b81",
   "metadata": {},
   "outputs": [],
   "source": [
    "data_clean.createOrReplaceTempView('etl_1')"
   ]
  },
  {
   "cell_type": "code",
   "execution_count": 19,
   "id": "31611dec",
   "metadata": {},
   "outputs": [],
   "source": [
    "final_df = spark.sql(\"\"\"\n",
    "SELECT\n",
    "    *\n",
    "FROM\n",
    "    etl_1\n",
    "WHERE 1=1\n",
    "AND hvfhs_license_num = 'HV0003'\n",
    "\"\"\")"
   ]
  },
  {
   "cell_type": "code",
   "execution_count": 20,
   "id": "f10a80f3",
   "metadata": {},
   "outputs": [
    {
     "name": "stdout",
     "output_type": "stream",
     "text": [
      "+-----------------+--------------------+---------------+----------------+------------+------------+-------+--------+\n",
      "|hvfhs_license_num|dispatching_base_num|pickup_datetime|dropoff_datetime|PULocationID|DOLocationID|SR_Flag|operator|\n",
      "+-----------------+--------------------+---------------+----------------+------------+------------+-------+--------+\n",
      "|           HV0003|              B02682|     2021-01-01|      2021-01-01|         230|         166|   null|     ZHE|\n",
      "|           HV0003|              B02682|     2021-01-01|      2021-01-01|         152|         167|   null|     ZHE|\n",
      "|           HV0003|              B02764|     2021-01-01|      2021-01-01|         233|         142|   null|     ZHE|\n",
      "|           HV0003|              B02764|     2021-01-01|      2021-01-01|         142|         143|   null|     ZHE|\n",
      "|           HV0003|              B02764|     2021-01-01|      2021-01-01|         143|          78|   null|     ZHE|\n",
      "|           HV0003|              B02764|     2021-01-01|      2021-01-01|          71|         226|   null|     ZHE|\n",
      "|           HV0003|              B02875|     2021-01-01|      2021-01-01|         112|         255|   null|     ZHE|\n",
      "|           HV0003|              B02875|     2021-01-01|      2021-01-01|         255|         232|   null|     ZHE|\n",
      "|           HV0003|              B02875|     2021-01-01|      2021-01-01|         232|         198|   null|     ZHE|\n",
      "|           HV0003|              B02835|     2021-01-01|      2021-01-01|         113|          48|   null|     ZHE|\n",
      "|           HV0003|              B02835|     2021-01-01|      2021-01-01|         239|          75|   null|     ZHE|\n",
      "|           HV0003|              B02682|     2021-01-01|      2021-01-01|         256|         148|   null|     ZHE|\n",
      "|           HV0003|              B02682|     2021-01-01|      2021-01-01|          79|          80|   null|     ZHE|\n",
      "|           HV0003|              B02682|     2021-01-01|      2021-01-01|          17|         217|   null|     ZHE|\n",
      "|           HV0003|              B02836|     2021-01-01|      2021-01-01|          22|          22|   null|     ZHE|\n",
      "|           HV0003|              B02836|     2021-01-01|      2021-01-01|         146|         129|   null|     ZHE|\n",
      "|           HV0003|              B02512|     2021-01-01|      2021-01-01|          37|         225|   null|     ZHE|\n",
      "|           HV0003|              B02512|     2021-01-01|      2021-01-01|         225|          47|   null|     ZHE|\n",
      "|           HV0003|              B02764|     2021-01-01|      2021-01-01|          81|          32|   null|     ZHE|\n",
      "|           HV0003|              B02764|     2021-01-01|      2021-01-01|          32|         126|   null|     ZHE|\n",
      "+-----------------+--------------------+---------------+----------------+------------+------------+-------+--------+\n",
      "only showing top 20 rows\n",
      "\n"
     ]
    }
   ],
   "source": [
    "final_df.show()"
   ]
  },
  {
   "cell_type": "code",
   "execution_count": 21,
   "id": "885b9717",
   "metadata": {},
   "outputs": [
    {
     "name": "stderr",
     "output_type": "stream",
     "text": [
      "                                                                                \r"
     ]
    }
   ],
   "source": [
    "final_df.write.parquet(\"gs://nyc-tlc-backup/test_output\", mode=\"overwrite\")"
   ]
  },
  {
   "cell_type": "code",
   "execution_count": 240,
   "id": "dc71c283",
   "metadata": {},
   "outputs": [],
   "source": [
    "#locally only can run one session / context therefore we need to stop when to create new one \n",
    "#spark.stop()\n",
    "#sc.stop()\n",
    "#spark.sparkContext.stop()"
   ]
  },
  {
   "cell_type": "code",
   "execution_count": null,
   "id": "e50d4259",
   "metadata": {},
   "outputs": [],
   "source": []
  }
 ],
 "metadata": {
  "kernelspec": {
   "display_name": "Python 3 (ipykernel)",
   "language": "python",
   "name": "python3"
  },
  "language_info": {
   "codemirror_mode": {
    "name": "ipython",
    "version": 3
   },
   "file_extension": ".py",
   "mimetype": "text/x-python",
   "name": "python",
   "nbconvert_exporter": "python",
   "pygments_lexer": "ipython3",
   "version": "3.11.5"
  }
 },
 "nbformat": 4,
 "nbformat_minor": 5
}
