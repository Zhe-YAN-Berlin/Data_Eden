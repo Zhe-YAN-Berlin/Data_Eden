{
 "cells": [
  {
   "cell_type": "code",
   "execution_count": 65,
   "id": "126f726a",
   "metadata": {},
   "outputs": [],
   "source": [
    "import pyspark\n",
    "from pyspark.sql import SparkSession\n",
    "from pyspark.conf import SparkConf\n",
    "from pyspark.context import SparkContext\n",
    "import gdown\n",
    "import os\n",
    "from pyspark.sql.functions import *"
   ]
  },
  {
   "cell_type": "code",
   "execution_count": null,
   "id": "df567153",
   "metadata": {},
   "outputs": [],
   "source": [
    "credentials_location = '/home/datatalks_jan/.google/credentials/google_credentials.json'"
   ]
  },
  {
   "cell_type": "code",
   "execution_count": null,
   "id": "c7936c35",
   "metadata": {},
   "outputs": [],
   "source": [
    "conf = SparkConf() \\\n",
    "    .setMaster('local[*]') \\\n",
    "    .setAppName('conrad_test') \\\n",
    "    .set(\"spark.jars\", \"./lib/gcs-connector-hadoop3-2.2.5.jar\") \\\n",
    "    .set(\"spark.hadoop.google.cloud.auth.service.account.enable\", \"true\") \\\n",
    "    .set(\"spark.hadoop.google.cloud.auth.service.account.json.keyfile\", credentials_location)"
   ]
  },
  {
   "cell_type": "code",
   "execution_count": null,
   "id": "e0fffe1d",
   "metadata": {},
   "outputs": [],
   "source": [
    "sc = SparkContext(conf=conf)\n",
    "hadoop_conf = sc._jsc.hadoopConfiguration()"
   ]
  },
  {
   "cell_type": "code",
   "execution_count": 4,
   "id": "62bfafe5",
   "metadata": {},
   "outputs": [
    {
     "name": "stderr",
     "output_type": "stream",
     "text": [
      "Downloading...\n",
      "From (original): https://drive.google.com/uc?id=1vcb_HBWsOSKW4XxhLfRpGlLzBLwHlGWJ\n",
      "From (redirected): https://drive.google.com/uc?id=1vcb_HBWsOSKW4XxhLfRpGlLzBLwHlGWJ&confirm=t&uuid=089e7409-dbfd-43d6-ae68-bdcdc16b18c5\n",
      "To: /home/datatalks_jan/Data_Eden/8_pySpark_pilot/source_data/multi_source_data/multi_source_demo.zip\n",
      "100%|█████████████████████████████████████████████████████████████| 154M/154M [00:00<00:00, 229MB/s]\n"
     ]
    },
    {
     "data": {
      "text/plain": [
       "'source_data/multi_source_data/multi_source_demo.zip'"
      ]
     },
     "execution_count": 4,
     "metadata": {},
     "output_type": "execute_result"
    }
   ],
   "source": [
    "source_url = 'https://drive.google.com/uc?id=1vcb_HBWsOSKW4XxhLfRpGlLzBLwHlGWJ'\n",
    "output_path = 'source_data/multi_source_data'\n",
    "output_file = os.path.join(output_path, 'multi_source_demo.zip') \n",
    "\n",
    "gdown.download(source_url, output_file, quiet=False)"
   ]
  },
  {
   "cell_type": "code",
   "execution_count": 5,
   "id": "dfa431c5",
   "metadata": {},
   "outputs": [
    {
     "name": "stdout",
     "output_type": "stream",
     "text": [
      "Archive:  source_data/multi_source_data/multi_source_demo.zip\n",
      "  inflating: source_data/multi_source_data/distribution_centers.csv  \n",
      "  inflating: source_data/multi_source_data/events.csv  \n",
      "  inflating: source_data/multi_source_data/inventory_items.csv  \n",
      "  inflating: source_data/multi_source_data/order_items.csv  \n",
      "  inflating: source_data/multi_source_data/orders.csv  \n",
      "  inflating: source_data/multi_source_data/products.csv  \n",
      "  inflating: source_data/multi_source_data/readme.txt  \n",
      "  inflating: source_data/multi_source_data/users.csv  \n"
     ]
    },
    {
     "data": {
      "text/plain": [
       "0"
      ]
     },
     "execution_count": 5,
     "metadata": {},
     "output_type": "execute_result"
    }
   ],
   "source": [
    "os.system(f'unzip -o {output_file} -d {output_path}')"
   ]
  },
  {
   "cell_type": "code",
   "execution_count": 6,
   "id": "b9cf5ce5",
   "metadata": {},
   "outputs": [
    {
     "name": "stderr",
     "output_type": "stream",
     "text": [
      "Setting default log level to \"WARN\".\n",
      "To adjust logging level use sc.setLogLevel(newLevel). For SparkR, use setLogLevel(newLevel).\n",
      "24/04/03 10:57:48 WARN NativeCodeLoader: Unable to load native-hadoop library for your platform... using builtin-java classes where applicable\n"
     ]
    }
   ],
   "source": [
    "spark = SparkSession.builder \\\n",
    "    .config(conf=sc.getConf()) \\\n",
    "    .getOrCreate()"
   ]
  },
  {
   "cell_type": "code",
   "execution_count": 50,
   "id": "8fdba772",
   "metadata": {},
   "outputs": [
    {
     "name": "stderr",
     "output_type": "stream",
     "text": [
      "\r",
      "                                                                                \r"
     ]
    }
   ],
   "source": [
    "df_1_users = spark.read.option(\"header\", \"true\").csv(f'{output_path}/users.csv')\n",
    "df_1_distri_centers = spark.read.option(\"header\", \"true\").csv(f'{output_path}/distribution_centers.csv')"
   ]
  },
  {
   "cell_type": "code",
   "execution_count": 52,
   "id": "bbccd520",
   "metadata": {},
   "outputs": [],
   "source": [
    "df_1_users = df_1_users.withColumn(\"latitude\", df_1_users[\"latitude\"].cast(\"float\"))\n",
    "df_1_users = df_1_users.withColumn(\"longitude\", df_1_users[\"longitude\"].cast(\"float\"))\n",
    "df_1_distri_centers = df_1_distri_centers.withColumn(\"latitude\", df_1_distri_centers[\"latitude\"].cast(\"float\"))\n",
    "df_1_distri_centers = df_1_distri_centers.withColumn(\"longitude\", df_1_distri_centers[\"longitude\"].cast(\"float\"))"
   ]
  },
  {
   "cell_type": "code",
   "execution_count": 67,
   "id": "2894de80",
   "metadata": {},
   "outputs": [
    {
     "name": "stdout",
     "output_type": "stream",
     "text": [
      "root\n",
      " |-- id: string (nullable = true)\n",
      " |-- name: string (nullable = true)\n",
      " |-- latitude: float (nullable = true)\n",
      " |-- longitude: float (nullable = true)\n",
      "\n"
     ]
    }
   ],
   "source": [
    "df_1_distri_centers.printSchema()"
   ]
  },
  {
   "cell_type": "code",
   "execution_count": 110,
   "id": "e87d7666",
   "metadata": {},
   "outputs": [],
   "source": [
    "from pyspark.sql.functions import col, acos, cos, sin, radians, atan2, sqrt"
   ]
  },
  {
   "cell_type": "code",
   "execution_count": 111,
   "id": "54b80489",
   "metadata": {},
   "outputs": [],
   "source": [
    "def haversine_distance(lat1, lon1, lat2, lon2):\n",
    "    lat1, lon1, lat2, lon2 = map(radians, [lat1, lon1, lat2, lon2])\n",
    "    dlon = lon2 - lon1\n",
    "    dlat = lat2 - lat1\n",
    "    a = sin(dlat / 2) ** 2 + cos(lat1) * cos(lat2) * sin(dlon / 2) ** 2\n",
    "    c = 2 * atan2(sqrt(a), sqrt(1 - a))\n",
    "    distance = 6371 * c \n",
    "    return distance"
   ]
  },
  {
   "cell_type": "code",
   "execution_count": 135,
   "id": "4b570f18",
   "metadata": {},
   "outputs": [],
   "source": [
    "df_1_users.createOrReplaceTempView(\"users\")\n",
    "df_1_distri_centers.createOrReplaceTempView(\"distribution_centers\")"
   ]
  },
  {
   "cell_type": "code",
   "execution_count": 176,
   "id": "2bb05b0c",
   "metadata": {},
   "outputs": [],
   "source": [
    "df_1_sql_query = \"\"\"\n",
    "    SELECT u.id as user_id, u.age as user_age, u.country, u.state,\n",
    "           dc.id AS distribution_center_id,dc.name AS distribution_center_name,\n",
    "           u.latitude as user_latitude, u.longitude as user_longitude, dc.latitude as center_latitude, dc.longitude as center_longitude\n",
    "    FROM users u\n",
    "    CROSS JOIN distribution_centers dc\n",
    "\"\"\""
   ]
  },
  {
   "cell_type": "code",
   "execution_count": 146,
   "id": "a0b7a300",
   "metadata": {},
   "outputs": [
    {
     "name": "stderr",
     "output_type": "stream",
     "text": [
      "[Stage 79:=============================>                            (1 + 1) / 2]\r"
     ]
    },
    {
     "name": "stdout",
     "output_type": "stream",
     "text": [
      "+-------+--------+-------+---------+----------------------+------------------------+-------------+--------------+---------------+----------------+------------------+\n",
      "|user_id|user_age|country|    state|distribution_center_id|distribution_center_name|user_latitude|user_longitude|center_latitude|center_longitude|          distance|\n",
      "+-------+--------+-------+---------+----------------------+------------------------+-------------+--------------+---------------+----------------+------------------+\n",
      "|      1|      70|  China|   Shanxi|                     1|              Memphis TN|    36.147415|      113.1227|        35.1174|        -89.9711|11737.842558916114|\n",
      "|      1|      70|  China|   Shanxi|                     2|              Chicago IL|    36.147415|      113.1227|        41.8369|        -87.6847|11089.054948665944|\n",
      "|      1|      70|  China|   Shanxi|                     3|              Houston TX|    36.147415|      113.1227|        29.7604|        -95.3698|12104.974024220499|\n",
      "|      1|      70|  China|   Shanxi|                     4|          Los Angeles CA|    36.147415|      113.1227|          34.05|         -118.25|10564.978611447585|\n",
      "|      1|      70|  China|   Shanxi|                     5|          New Orleans LA|    36.147415|      113.1227|          29.95|        -90.0667|12276.485420254874|\n",
      "|      1|      70|  China|   Shanxi|                     6|    Port Authority of...|    36.147415|      113.1227|         40.634|        -73.7834|11448.301174679178|\n",
      "|      1|      70|  China|   Shanxi|                     7|         Philadelphia PA|    36.147415|      113.1227|          39.95|        -75.1667| 11511.02762671131|\n",
      "|      1|      70|  China|   Shanxi|                     8|               Mobile AL|    36.147415|      113.1227|        30.6944|        -88.0431|12261.354007642278|\n",
      "|      1|      70|  China|   Shanxi|                     9|           Charleston SC|    36.147415|      113.1227|        32.7833|        -79.9333| 12230.94767892766|\n",
      "|      1|      70|  China|   Shanxi|                    10|             Savannah GA|    36.147415|      113.1227|        32.0167|        -81.1167|12291.843440491617|\n",
      "|     10|      18|  China|Guangdong|                     3|              Houston TX|    22.670498|     113.25135|        29.7604|        -95.3698|13430.814635687831|\n",
      "|     10|      18|  China|Guangdong|                     2|              Chicago IL|    22.670498|     113.25135|        41.8369|        -87.6847|12525.460110687514|\n",
      "|     10|      18|  China|Guangdong|                     1|              Memphis TN|    22.670498|     113.25135|        35.1174|        -89.9711| 13138.56394967807|\n",
      "|     10|      18|  China|Guangdong|                     4|          Los Angeles CA|    22.670498|     113.25135|          34.05|         -118.25|11683.981878339073|\n",
      "|     10|      18|  China|Guangdong|                     5|          New Orleans LA|    22.670498|     113.25135|          29.95|        -90.0667|13655.345542274565|\n",
      "|     10|      18|  China|Guangdong|                     6|    Port Authority of...|    22.670498|     113.25135|         40.634|        -73.7834|12938.411877665189|\n",
      "|     10|      18|  China|Guangdong|                     7|         Philadelphia PA|    22.670498|     113.25135|          39.95|        -75.1667|12997.446360826227|\n",
      "|     10|      18|  China|Guangdong|                     8|               Mobile AL|    22.670498|     113.25135|        30.6944|        -88.0431| 13661.07394238484|\n",
      "|     10|      18|  China|Guangdong|                     9|           Charleston SC|    22.670498|     113.25135|        32.7833|        -79.9333|13692.047087019244|\n",
      "|     10|      18|  China|Guangdong|                    10|             Savannah GA|    22.670498|     113.25135|        32.0167|        -81.1167| 13745.04539848241|\n",
      "+-------+--------+-------+---------+----------------------+------------------------+-------------+--------------+---------------+----------------+------------------+\n",
      "only showing top 20 rows\n",
      "\n"
     ]
    },
    {
     "name": "stderr",
     "output_type": "stream",
     "text": [
      "\r",
      "                                                                                \r"
     ]
    }
   ],
   "source": [
    "df_1_with_distance = spark.sql(df_1_sql_query).withColumn(\"distance\", haversine_distance(col(\"user_latitude\"), col(\"user_longitude\"), col(\"center_latitude\"), col(\"center_longitude\")))\n",
    "df_1_with_distance.show()"
   ]
  },
  {
   "cell_type": "code",
   "execution_count": 150,
   "id": "a14fc9bf",
   "metadata": {},
   "outputs": [
    {
     "name": "stderr",
     "output_type": "stream",
     "text": [
      "[Stage 108:>                                                        (0 + 2) / 2]\r"
     ]
    },
    {
     "name": "stdout",
     "output_type": "stream",
     "text": [
      "+-------+--------+--------------+--------------------+----------------------+------------------------+------------------+\n",
      "|user_id|user_age|       country|               state|distribution_center_id|distribution_center_name|          distance|\n",
      "+-------+--------+--------------+--------------------+----------------------+------------------------+------------------+\n",
      "|      1|      70|         China|              Shanxi|                     4|          Los Angeles CA|10564.978611447585|\n",
      "|     10|      18|         China|           Guangdong|                     4|          Los Angeles CA|11683.981878339073|\n",
      "|    100|      32|         China|           Guangdong|                     4|          Los Angeles CA|11433.559166566682|\n",
      "|   1000|      49|         China|           Guangdong|                     4|          Los Angeles CA|11628.109441907302|\n",
      "|  10000|      38|         China|           Guangdong|                     4|          Los Angeles CA|11375.162419660232|\n",
      "| 100000|      34|        France|       Île-de-France|                     6|    Port Authority of...|  5827.07618422238|\n",
      "|  10001|      12|         Japan|             Okayama|                     4|          Los Angeles CA| 9329.940966048947|\n",
      "|  10002|      50| United States|          California|                     4|          Los Angeles CA|  50.2449112005029|\n",
      "|  10003|      34|         China|Inner Mongolia Au...|                     4|          Los Angeles CA|10351.782103638005|\n",
      "|  10004|      45|         China|               Henan|                     4|          Los Angeles CA|10528.829697124922|\n",
      "|  10005|      58|   South Korea|         Gyeonggi-do|                     4|          Los Angeles CA| 9612.462559030317|\n",
      "|  10006|      38|         China|            Shanghai|                     4|          Los Angeles CA|10452.422842371105|\n",
      "|  10007|      60| United States|               Texas|                     3|              Houston TX|234.14870082472504|\n",
      "|  10008|      53|         China|             Jiangxi|                     4|          Los Angeles CA|10875.458480029021|\n",
      "|  10009|      38|        Brasil|               Bahia|                     9|           Charleston SC| 6726.068756218762|\n",
      "|   1001|      53|         Japan|               Tokyo|                     4|          Los Angeles CA| 8821.330001235976|\n",
      "|  10010|      22|        Brasil|          Pernambuco|                     9|           Charleston SC| 6521.658472429486|\n",
      "|  10011|      28|United Kingdom|             England|                     6|    Port Authority of...|5449.8777723765925|\n",
      "|  10012|      52| United States|         Connecticut|                     6|    Port Authority of...| 166.5618116621524|\n",
      "|  10013|      70|   South Korea|   Chungcheongnam-do|                     4|          Los Angeles CA|  9638.83584811401|\n",
      "+-------+--------+--------------+--------------------+----------------------+------------------------+------------------+\n",
      "only showing top 20 rows\n",
      "\n",
      "root\n",
      " |-- user_id: string (nullable = true)\n",
      " |-- user_age: string (nullable = true)\n",
      " |-- country: string (nullable = true)\n",
      " |-- state: string (nullable = true)\n",
      " |-- distribution_center_id: string (nullable = true)\n",
      " |-- distribution_center_name: string (nullable = true)\n",
      " |-- distance: double (nullable = true)\n",
      "\n"
     ]
    },
    {
     "name": "stderr",
     "output_type": "stream",
     "text": [
      "\r",
      "[Stage 111:>                                                        (0 + 2) / 2]\r",
      "\r",
      "                                                                                \r"
     ]
    }
   ],
   "source": [
    "from pyspark.sql.window import Window\n",
    "windowSpec = Window.partitionBy(\"user_id\").orderBy(\"distance\")\n",
    "df_with_row_number = df_1_with_distance.withColumn(\"row_number\", row_number().over(windowSpec))\n",
    "df_1_final = df_with_row_number.filter(col(\"row_number\") == 1)\n",
    "df_1 = df_1_final.select(\"user_id\",\"user_age\",\"country\",\"state\",\"distribution_center_id\",\"distribution_center_name\",\"distance\").orderBy(\"user_id\")\n",
    "df_1.show()\n",
    "df_1.printSchema()"
   ]
  },
  {
   "cell_type": "code",
   "execution_count": 151,
   "id": "033a97bb",
   "metadata": {},
   "outputs": [],
   "source": [
    "df_2_orders = spark.read.option(\"header\", \"true\").csv(f'{output_path}/orders.csv')\n",
    "df_2_order_items = spark.read.option(\"header\", \"true\").csv(f'{output_path}/order_items.csv')"
   ]
  },
  {
   "cell_type": "code",
   "execution_count": 173,
   "id": "3692b466",
   "metadata": {},
   "outputs": [
    {
     "name": "stderr",
     "output_type": "stream",
     "text": [
      "[Stage 138:============================>                            (1 + 1) / 2]\r"
     ]
    },
    {
     "name": "stdout",
     "output_type": "stream",
     "text": [
      "+--------+-------+----------+------+-------------------+--------------------+--------------------+--------------------+-----------+\n",
      "|order_id|user_id|    status|gender|         created_at|         returned_at|          shipped_at|        delivered_at|num_of_item|\n",
      "+--------+-------+----------+------+-------------------+--------------------+--------------------+--------------------+-----------+\n",
      "|  108218|  86249|  Complete|     M|2023-01-01 00:00:00|                null|2023-01-03 10:19:...|2023-01-05 00:57:...|          1|\n",
      "|   89472|  71296|  Complete|     M|2023-01-01 00:02:00|                null|2023-01-03 09:01:...|2023-01-03 19:03:...|          1|\n",
      "|  117415|  93606|  Returned|     M|2023-01-01 00:16:00|2023-01-06 20:42:...|2023-01-01 16:31:...|2023-01-05 12:12:...|          1|\n",
      "|  105710|  84267|   Shipped|     F|2023-01-01 00:19:00|                null|2023-01-02 02:19:...|                null|          1|\n",
      "|   67811|  54111|  Complete|     F|2023-01-01 00:20:00|                null|2023-01-02 00:48:...|2023-01-06 22:38:...|          1|\n",
      "|   16305|  13069|  Complete|     M|2023-01-01 00:22:00|                null|2023-01-01 21:54:...|2023-01-06 19:55:...|          1|\n",
      "|   49828|  39924| Cancelled|     M|2023-01-01 00:27:00|                null|                null|                null|          1|\n",
      "|   89262|  71114|  Complete|     F|2023-01-01 00:34:00|                null|2023-01-02 00:59:...|2023-01-03 00:18:...|          1|\n",
      "|    7125|   5726| Cancelled|     M|2023-01-01 00:34:00|                null|                null|                null|          1|\n",
      "|  106867|  85200|   Shipped|     M|2023-01-01 00:41:00|                null|2023-01-01 10:27:...|                null|          2|\n",
      "|    2669|   2131| Cancelled|     M|2023-01-01 00:43:00|                null|                null|                null|          1|\n",
      "|   86084|  68563|   Shipped|     F|2023-01-01 00:45:00|                null|2023-01-03 19:24:...|                null|          2|\n",
      "|   86858|  69181|Processing|     F|2023-01-01 01:02:00|                null|                null|                null|          1|\n",
      "|   91265|  72735|  Complete|     F|2023-01-01 01:10:00|                null|2023-01-03 04:55:...|2023-01-05 23:19:...|          1|\n",
      "|   46764|  37477|Processing|     F|2023-01-01 01:10:00|                null|                null|                null|          1|\n",
      "|   27745|  22254|   Shipped|     M|2023-01-01 01:10:00|                null|2023-01-03 22:35:...|                null|          1|\n",
      "|   14394|  11531|  Returned|     F|2023-01-01 01:27:00|2023-01-07 09:42:...|2023-01-02 03:03:...|2023-01-06 17:08:...|          1|\n",
      "|   41680|  33447|  Complete|     M|2023-01-01 01:34:00|                null|2023-01-02 03:08:...|2023-01-02 04:46:...|          2|\n",
      "|  102782|  81944|Processing|     M|2023-01-01 01:42:00|                null|                null|                null|          2|\n",
      "|  108315|  86325|Processing|     F|2023-01-01 01:43:00|                null|                null|                null|          1|\n",
      "|   94486|  75304|Processing|     M|2023-01-01 01:55:00|                null|                null|                null|          1|\n",
      "|   97752|  77894|   Shipped|     M|2023-01-01 02:02:00|                null|2023-01-02 05:57:...|                null|          1|\n",
      "|  112139|  89405| Cancelled|     F|2023-01-01 02:03:00|                null|                null|                null|          2|\n",
      "|  106202|  84686|  Complete|     M|2023-01-01 02:04:00|                null|2023-01-02 19:03:...|2023-01-04 08:02:...|          1|\n",
      "|   15274|  12244|  Complete|     F|2023-01-01 02:16:00|                null|2023-01-01 23:44:...|2023-01-06 11:20:...|          1|\n",
      "|   82811|  65973|  Complete|     F|2023-01-01 02:17:00|                null|2023-01-02 13:24:...|2023-01-07 04:20:...|          2|\n",
      "|  110969|  88450|  Complete|     F|2023-01-01 02:33:00|                null|2023-01-02 10:56:...|2023-01-04 01:50:...|          1|\n",
      "|   54239|  43355| Cancelled|     F|2023-01-01 02:40:00|                null|                null|                null|          1|\n",
      "|   87849|  69985|  Returned|     M|2023-01-01 02:55:00|2023-01-04 14:34:...|2023-01-02 01:12:...|2023-01-02 01:28:...|          1|\n",
      "|  104732|  83516|  Returned|     F|2023-01-01 02:59:00|2023-01-04 00:20:...|2023-01-03 04:17:...|2023-01-03 12:11:...|          2|\n",
      "|   36040|  28909|   Shipped|     F|2023-01-01 03:02:00|                null|2023-01-02 03:06:...|                null|          1|\n",
      "|   84305|  67126| Cancelled|     F|2023-01-01 03:05:00|                null|                null|                null|          1|\n",
      "|   73483|  58555|   Shipped|     M|2023-01-01 03:08:00|                null|2023-01-03 05:20:...|                null|          1|\n",
      "|   23780|  19023|  Returned|     M|2023-01-01 03:27:00|2023-01-07 04:10:...|2023-01-01 05:55:...|2023-01-04 13:51:...|          2|\n",
      "|   35903|  28812| Cancelled|     M|2023-01-01 03:28:00|                null|                null|                null|          1|\n",
      "|   52471|  41983|  Returned|     F|2023-01-01 03:34:00|2023-01-06 11:25:...|2023-01-02 04:18:...|2023-01-05 11:40:...|          1|\n",
      "|  120943|  96512|   Shipped|     M|2023-01-01 03:37:00|                null|2023-01-01 04:17:...|                null|          1|\n",
      "|   96160|  76633| Cancelled|     M|2023-01-01 03:39:00|                null|                null|                null|          2|\n",
      "|  123056|  98219|   Shipped|     F|2023-01-01 03:39:00|                null|2023-01-02 20:25:...|                null|          1|\n",
      "|   87332|  69560|   Shipped|     M|2023-01-01 03:43:00|                null|2023-01-02 03:31:...|                null|          3|\n",
      "|   49058|  39310|   Shipped|     F|2023-01-01 03:57:00|                null|2023-01-02 20:18:...|                null|          2|\n",
      "|   44449|  35642|   Shipped|     F|2023-01-01 03:59:00|                null|2023-01-03 13:20:...|                null|          2|\n",
      "|  111681|  89033|  Complete|     F|2023-01-01 04:00:00|                null|2023-01-03 01:26:...|2023-01-06 14:33:...|          2|\n",
      "|   43851|  35185|   Shipped|     M|2023-01-01 04:07:00|                null|2023-01-02 16:12:...|                null|          2|\n",
      "|   30888|  24798|   Shipped|     F|2023-01-01 04:22:00|                null|2023-01-01 19:43:...|                null|          1|\n",
      "|   31749|  25474| Cancelled|     M|2023-01-01 04:26:00|                null|                null|                null|          1|\n",
      "|  103362|  82391|   Shipped|     M|2023-01-01 04:38:00|                null|2023-01-02 18:40:...|                null|          1|\n",
      "|   91696|  73085|  Complete|     F|2023-01-01 04:44:00|                null|2023-01-01 16:11:...|2023-01-05 16:40:...|          1|\n",
      "|   24902|  19942|Processing|     M|2023-01-01 04:45:00|                null|                null|                null|          2|\n",
      "|   92272|  73536|Processing|     M|2023-01-01 04:46:00|                null|                null|                null|          3|\n",
      "|   32174|  25793|  Complete|     M|2023-01-01 04:56:00|                null|2023-01-03 12:01:...|2023-01-08 09:51:...|          1|\n",
      "|    4624|   3681| Cancelled|     F|2023-01-01 05:01:00|                null|                null|                null|          1|\n",
      "|   90247|  71938|   Shipped|     M|2023-01-01 05:02:00|                null|2023-01-01 22:01:...|                null|          1|\n",
      "|   17231|  13797| Cancelled|     F|2023-01-01 05:07:00|                null|                null|                null|          1|\n",
      "|  100444|  80055| Cancelled|     F|2023-01-01 05:07:00|                null|                null|                null|          1|\n",
      "|   46212|  37052|Processing|     F|2023-01-01 05:07:00|                null|                null|                null|          1|\n",
      "|   59137|  47316|  Complete|     F|2023-01-01 05:13:00|                null|2023-01-03 21:37:...|2023-01-07 23:27:...|          1|\n",
      "|  104733|  83517|Processing|     F|2023-01-01 05:23:00|                null|                null|                null|          1|\n",
      "|   46356|  37158| Cancelled|     F|2023-01-01 05:26:00|                null|                null|                null|          1|\n",
      "|   31281|  25105|  Returned|     F|2023-01-01 05:31:00|2023-01-07 00:55:...|2023-01-01 15:30:...|2023-01-05 22:45:...|          2|\n",
      "|   31258|  25090| Cancelled|     F|2023-01-01 05:41:00|                null|                null|                null|          1|\n",
      "|   10595|   8522|   Shipped|     F|2023-01-01 05:46:00|                null|2023-01-03 13:31:...|                null|          3|\n",
      "|  109681|  87458|   Shipped|     M|2023-01-01 05:51:00|                null|2023-01-01 08:29:...|                null|          1|\n",
      "|    6650|   5334|   Shipped|     M|2023-01-01 05:55:00|                null|2023-01-02 23:30:...|                null|          1|\n",
      "|   13158|  10507|  Complete|     F|2023-01-01 05:59:00|                null|2023-01-03 15:37:...|2023-01-07 19:38:...|          1|\n",
      "|   37836|  30331| Cancelled|     F|2023-01-01 05:59:00|                null|                null|                null|          2|\n",
      "|   14968|  11997|  Complete|     M|2023-01-01 06:01:00|                null|2023-01-01 21:29:...|2023-01-02 06:52:...|          2|\n",
      "|   49730|  39848|   Shipped|     M|2023-01-01 06:02:00|                null|2023-01-02 06:54:...|                null|          1|\n",
      "|   31589|  25346|Processing|     M|2023-01-01 06:05:00|                null|                null|                null|          1|\n",
      "|   78856|  62874|   Shipped|     F|2023-01-01 06:05:00|                null|2023-01-01 08:33:...|                null|          1|\n",
      "|   77134|  61525|Processing|     F|2023-01-01 06:19:00|                null|                null|                null|          1|\n",
      "|   30077|  24144| Cancelled|     F|2023-01-01 06:19:00|                null|                null|                null|          1|\n",
      "|   44648|  35797|  Complete|     M|2023-01-01 06:25:00|                null|2023-01-01 23:09:...|2023-01-06 01:24:...|          1|\n",
      "|  115561|  92131|Processing|     M|2023-01-01 06:30:00|                null|                null|                null|          1|\n",
      "|   31733|  25463| Cancelled|     M|2023-01-01 06:32:00|                null|                null|                null|          1|\n",
      "|  122264|  97589|   Shipped|     F|2023-01-01 06:43:00|                null|2023-01-02 13:35:...|                null|          1|\n",
      "|  111069|  88548|  Returned|     F|2023-01-01 06:47:00|2023-01-07 00:57:...|2023-01-01 08:16:...|2023-01-05 04:21:...|          2|\n",
      "|   44504|  35686|Processing|     F|2023-01-01 06:50:00|                null|                null|                null|          2|\n",
      "|   59386|  47531|  Complete|     F|2023-01-01 06:56:00|                null|2023-01-01 20:38:...|2023-01-05 04:03:...|          3|\n",
      "|   10802|   8699|Processing|     M|2023-01-01 07:02:00|                null|                null|                null|          1|\n",
      "|   13797|  11028|  Returned|     F|2023-01-01 07:16:00|2023-01-08 12:02:...|2023-01-02 09:39:...|2023-01-07 09:09:...|          1|\n",
      "|   18061|  14480|  Returned|     F|2023-01-01 07:17:00|2023-01-07 07:34:...|2023-01-02 11:17:...|2023-01-04 09:44:...|          1|\n",
      "|   92651|  73833| Cancelled|     M|2023-01-01 07:28:00|                null|                null|                null|          1|\n",
      "|   42637|  34202|  Complete|     F|2023-01-01 07:42:00|                null|2023-01-01 07:58:...|2023-01-02 08:13:...|          2|\n",
      "|   81576|  65024| Cancelled|     F|2023-01-01 07:44:00|                null|                null|                null|          2|\n",
      "|   47700|  38237|   Shipped|     F|2023-01-01 07:52:00|                null|2023-01-02 18:44:...|                null|          1|\n",
      "|   61627|  49235| Cancelled|     M|2023-01-01 07:53:00|                null|                null|                null|          1|\n",
      "|  107632|  85805|   Shipped|     M|2023-01-01 07:58:00|                null|2023-01-02 13:54:...|                null|          1|\n",
      "|   91878|  73213| Cancelled|     M|2023-01-01 07:58:00|                null|                null|                null|          1|\n",
      "|    1095|    890|   Shipped|     F|2023-01-01 08:02:00|                null|2023-01-02 16:42:...|                null|          4|\n",
      "|   65658|  52397|   Shipped|     F|2023-01-01 08:21:00|                null|2023-01-04 04:58:...|                null|          1|\n",
      "|   97032|  77332|Processing|     M|2023-01-01 08:33:00|                null|                null|                null|          1|\n",
      "|   48911|  39184|   Shipped|     F|2023-01-01 08:34:00|                null|2023-01-04 06:27:...|                null|          1|\n",
      "|   12999|  10393|  Complete|     M|2023-01-01 08:37:00|                null|2023-01-01 15:31:...|2023-01-01 23:59:...|          1|\n",
      "|   73844|  58846|Processing|     F|2023-01-01 08:52:00|                null|                null|                null|          1|\n",
      "|   37558|  30097|   Shipped|     M|2023-01-01 08:55:00|                null|2023-01-01 22:32:...|                null|          1|\n",
      "|   29100|  23349|  Complete|     F|2023-01-01 08:56:00|                null|2023-01-04 00:25:...|2023-01-06 16:50:...|          1|\n",
      "|   19668|  15759|  Complete|     F|2023-01-01 09:07:00|                null|2023-01-03 03:47:...|2023-01-06 02:08:...|          2|\n",
      "|   12558|  10077|   Shipped|     M|2023-01-01 09:07:00|                null|2023-01-02 22:22:...|                null|          1|\n",
      "|   73805|  58821|   Shipped|     M|2023-01-01 09:17:00|                null|2023-01-01 16:34:...|                null|          1|\n",
      "+--------+-------+----------+------+-------------------+--------------------+--------------------+--------------------+-----------+\n",
      "only showing top 100 rows\n",
      "\n"
     ]
    },
    {
     "name": "stderr",
     "output_type": "stream",
     "text": [
      "\r",
      "                                                                                \r"
     ]
    }
   ],
   "source": [
    "df_2_orders_last_year = df_2_orders.withColumn(\"created_at\", df_2_orders[\"created_at\"].cast(\"timestamp\")).filter(year(\"created_at\") == 2023)\n",
    "df_2_orders_last_year.orderBy(df_2_orders_last_year[\"created_at\"]).show(100)"
   ]
  },
  {
   "cell_type": "code",
   "execution_count": 162,
   "id": "71f035a9",
   "metadata": {},
   "outputs": [],
   "source": [
    "df_2_orders_last_year.createOrReplaceTempView(\"orders_last_year\")\n",
    "df_2_order_items.createOrReplaceTempView(\"order_items\")"
   ]
  },
  {
   "cell_type": "code",
   "execution_count": 180,
   "id": "d9d7e077",
   "metadata": {},
   "outputs": [],
   "source": [
    "df_2_sql = spark.sql(\"\"\"\n",
    "    SELECT t2.order_id, t1.user_id, t1.product_id, t1.status, t1.sale_price\n",
    "    FROM  order_items as t1\n",
    "    INNER JOIN orders_last_year as t2 on t2.order_id = t1.order_id\n",
    "\"\"\")"
   ]
  },
  {
   "cell_type": "code",
   "execution_count": 181,
   "id": "b2cae0c0",
   "metadata": {},
   "outputs": [
    {
     "name": "stderr",
     "output_type": "stream",
     "text": [
      "                                                                                \r"
     ]
    },
    {
     "name": "stdout",
     "output_type": "stream",
     "text": [
      "+--------+-------+----------+----------+----------+\n",
      "|order_id|user_id|product_id|    status|sale_price|\n",
      "+--------+-------+----------+----------+----------+\n",
      "|    7401|   5955|     13606|   Shipped|       2.5|\n",
      "|   15156|  12140|     13606|   Shipped|       2.5|\n",
      "|  112131|  89401|     13606|  Returned|       2.5|\n",
      "|  109741|  87498|     13696|   Shipped|       3.5|\n",
      "|   40873|  32792|     13696|  Complete|       3.5|\n",
      "|   45837|  36739|     28679|  Complete|       3.5|\n",
      "|   51252|  41004|     28679|  Complete|       3.5|\n",
      "|   82249|  65559|     28668|  Complete|       3.5|\n",
      "|   44958|  36034|     15917|  Returned|       3.5|\n",
      "|   50940|  40764|     14248|  Returned|       3.5|\n",
      "|   74499|  59387|     28668|  Returned|       3.5|\n",
      "|    2159|   1733|     15784| Cancelled|       3.5|\n",
      "|  102081|  81377|     15419| Cancelled|       3.5|\n",
      "|   20438|  16354|     15917|Processing|       3.5|\n",
      "|   86795|  69129|     12602| Cancelled|      3.75|\n",
      "|   58472|  46791|     12667|   Shipped|         4|\n",
      "|   87586|  69767|     25265|   Shipped|       4.5|\n",
      "|  105527|  84116|     24922|   Shipped|       4.5|\n",
      "|  107010|  85314|     25265|   Shipped|       4.5|\n",
      "|   59470|  47592|     25265|  Complete|       4.5|\n",
      "+--------+-------+----------+----------+----------+\n",
      "only showing top 20 rows\n",
      "\n"
     ]
    }
   ],
   "source": [
    "df_2_sql.show()"
   ]
  },
  {
   "cell_type": "code",
   "execution_count": 182,
   "id": "dfeae304",
   "metadata": {},
   "outputs": [],
   "source": [
    "df_2_sql.createOrReplaceTempView(\"order_details\")"
   ]
  },
  {
   "cell_type": "code",
   "execution_count": 191,
   "id": "e7fbee56",
   "metadata": {},
   "outputs": [
    {
     "name": "stderr",
     "output_type": "stream",
     "text": [
      "[Stage 171:============================>                            (1 + 1) / 2]\r"
     ]
    },
    {
     "name": "stdout",
     "output_type": "stream",
     "text": [
      "+-------+-------------------+\n",
      "|user_id|product_return_rate|\n",
      "+-------+-------------------+\n",
      "|  55371| 0.3333333333333333|\n",
      "|  76321|                0.0|\n",
      "|  67728|                0.0|\n",
      "|  83450|                0.0|\n",
      "|  50254|                0.0|\n",
      "|   5645|                0.0|\n",
      "|  36067|                0.0|\n",
      "|  26005| 0.6666666666666666|\n",
      "|  49079|                1.0|\n",
      "|  16974|                0.0|\n",
      "|  75602|                0.0|\n",
      "|  37774|                0.0|\n",
      "|  51550|                0.0|\n",
      "|  52991|                0.0|\n",
      "|  42776|                0.0|\n",
      "|  45141|                0.0|\n",
      "|  90022|                0.0|\n",
      "|  29573|                0.0|\n",
      "|  65548|                0.0|\n",
      "|  67074|                0.0|\n",
      "+-------+-------------------+\n",
      "only showing top 20 rows\n",
      "\n"
     ]
    },
    {
     "name": "stderr",
     "output_type": "stream",
     "text": [
      "\r",
      "                                                                                \r"
     ]
    }
   ],
   "source": [
    "df_2 = spark.sql(\"\"\"\n",
    "    SELECT user_id, COUNT(CASE WHEN status = 'Returned' THEN product_id END) / COUNT(product_id) as product_return_rate\n",
    "    FROM  order_details\n",
    "    GROUP BY user_id\n",
    "\"\"\")\n",
    "df_2.show()"
   ]
  },
  {
   "cell_type": "code",
   "execution_count": 184,
   "id": "8ac0ed8a",
   "metadata": {},
   "outputs": [],
   "source": [
    "df_3_product_price = spark.read.option(\"header\", \"true\").csv(f'{output_path}/products.csv')"
   ]
  },
  {
   "cell_type": "code",
   "execution_count": 185,
   "id": "0a49fb07",
   "metadata": {},
   "outputs": [],
   "source": [
    "df_3_product_price = df_3_product_price.select(\"id\", \"cost\")"
   ]
  },
  {
   "cell_type": "code",
   "execution_count": 187,
   "id": "28a1063d",
   "metadata": {},
   "outputs": [],
   "source": [
    "df_3_product_price.createOrReplaceTempView(\"product_price\")"
   ]
  },
  {
   "cell_type": "code",
   "execution_count": 192,
   "id": "581d9dec",
   "metadata": {},
   "outputs": [
    {
     "name": "stderr",
     "output_type": "stream",
     "text": [
      "[Stage 176:============================>                            (1 + 1) / 2]\r"
     ]
    },
    {
     "name": "stdout",
     "output_type": "stream",
     "text": [
      "+-------+------------------+\n",
      "|user_id|      profit_total|\n",
      "+-------+------------------+\n",
      "|  55371| 36.56049993814668|\n",
      "|  76321|3.6499999836087236|\n",
      "|  67728| 6.160000022500753|\n",
      "|  83450|34.115999944508076|\n",
      "|  50254| 7.504000009968877|\n",
      "|   5645| 80.19799986854196|\n",
      "|  36067| 45.91799999959767|\n",
      "|  26005| 58.43153086270138|\n",
      "|  49079| 76.41999986022711|\n",
      "|  16974|164.59368116655358|\n",
      "|  75602|245.21341720238505|\n",
      "|  37774| 9.614000018686056|\n",
      "|  51550|104.69988313152537|\n",
      "|  52991|50.305400310753285|\n",
      "|  42776|11.711999997496603|\n",
      "|  45141| 30.59799999045208|\n",
      "|  90022|24.426070789695085|\n",
      "|  29573| 50.58567986480862|\n",
      "|  65548|13.607999987900255|\n",
      "|  67074| 13.74799995869398|\n",
      "+-------+------------------+\n",
      "only showing top 20 rows\n",
      "\n"
     ]
    },
    {
     "name": "stderr",
     "output_type": "stream",
     "text": [
      "\r",
      "                                                                                \r"
     ]
    }
   ],
   "source": [
    "df_3 = spark.sql(\"\"\"\n",
    "    SELECT user_id, SUM(T1.sale_price - T2.cost) as profit_total\n",
    "    FROM  order_details AS T1\n",
    "    LEFT JOIN product_price AS T2 ON T2.id = T1.product_id\n",
    "    GROUP BY user_id\n",
    "\"\"\")\n",
    "\n",
    "df_3.show()"
   ]
  },
  {
   "cell_type": "code",
   "execution_count": 196,
   "id": "dc023eb3",
   "metadata": {
    "scrolled": true
   },
   "outputs": [
    {
     "name": "stderr",
     "output_type": "stream",
     "text": [
      "                                                                                \r"
     ]
    },
    {
     "name": "stdout",
     "output_type": "stream",
     "text": [
      "+-------+--------+-------------+--------------------+----------------------+------------------------+-------------------+------------------+\n",
      "|user_id|user_age|      country|               state|distribution_center_id|distribution_center_name|product_return_rate|      profit_total|\n",
      "+-------+--------+-------------+--------------------+----------------------+------------------------+-------------------+------------------+\n",
      "|  10003|      34|        China|Inner Mongolia Au...|                     4|          Los Angeles CA|                0.0|15.735300476637484|\n",
      "|  10009|      38|       Brasil|               Bahia|                     9|           Charleston SC|                0.0|175.31354011801167|\n",
      "|  10023|      68|        China|           Guangdong|                     4|          Los Angeles CA|                0.0|21.074899063354728|\n",
      "|  10039|      34|      Belgium|            Flanders|                     6|    Port Authority of...|                0.0|24.584000065922737|\n",
      "|  10047|      35|  South Korea|         Gyeonggi-do|                     4|          Los Angeles CA|                0.0| 176.7811963791337|\n",
      "|  10052|      62|  South Korea|         Gyeonggi-do|                     4|          Los Angeles CA|                0.0| 13.22558988833785|\n",
      "|  10054|      37|        China|           Guangdong|                     4|          Los Angeles CA|                0.0| 62.45099981687963|\n",
      "|  10055|      53|United States|          California|                     4|          Los Angeles CA|                0.0| 100.4917402377373|\n",
      "|  10058|      65|United States|             Georgia|                    10|             Savannah GA|                1.0|27.980190201783024|\n",
      "|  10073|      51|United States|             Florida|                     8|               Mobile AL|                0.0| 22.20925006456673|\n",
      "|  10076|      58|       Brasil|            Amazonas|                    10|             Savannah GA|                0.0| 15.58293972727418|\n",
      "|  10077|      60|        China|              Yunnan|                     4|          Los Angeles CA|                0.0|   4.8990401063776|\n",
      "|   1008|      23|        China|           Guangdong|                     4|          Los Angeles CA|                0.0| 57.59500005794689|\n",
      "|  10088|      49|        China|             Jiangsu|                     4|          Los Angeles CA|                0.5|25.934151125196742|\n",
      "|  10096|      70|        Spain|      Islas Baleares|                     6|    Port Authority of...|                0.0|30.850000120699406|\n",
      "|    101|      14|      Germany|   Baden-Württemberg|                     6|    Port Authority of...|                0.0| 4.484259890099764|\n",
      "|  10104|      51|United States|             Florida|                    10|             Savannah GA|                0.0| 53.27570042907744|\n",
      "|  10107|      19|        Japan|               Tokyo|                     4|          Los Angeles CA|                0.0| 3.599760061448216|\n",
      "|  10109|      50|United States|             Indiana|                     2|              Chicago IL|                0.0| 5.856480088223218|\n",
      "|  10115|      27|        China|               Henan|                     4|          Los Angeles CA|                0.0| 39.81600005179643|\n",
      "+-------+--------+-------------+--------------------+----------------------+------------------------+-------------------+------------------+\n",
      "only showing top 20 rows\n",
      "\n",
      "root\n",
      " |-- user_id: string (nullable = true)\n",
      " |-- user_age: integer (nullable = true)\n",
      " |-- country: string (nullable = true)\n",
      " |-- state: string (nullable = true)\n",
      " |-- distribution_center_id: string (nullable = true)\n",
      " |-- distribution_center_name: string (nullable = true)\n",
      " |-- product_return_rate: double (nullable = true)\n",
      " |-- profit_total: double (nullable = true)\n",
      "\n"
     ]
    },
    {
     "name": "stderr",
     "output_type": "stream",
     "text": [
      "\r",
      "[Stage 242:>                                                        (0 + 1) / 1]\r",
      "\r",
      "                                                                                \r"
     ]
    }
   ],
   "source": [
    "df_final = df_1.join(df_2, \"user_id\").join(df_3, \"user_id\")\n",
    "df_final = df_final.select(\"user_id\",\"user_age\",\"country\",\"state\",\"distribution_center_id\",\"distribution_center_name\",\"product_return_rate\",\"profit_total\")\n",
    "\n",
    "df_final = df_final.withColumn(\"user_age\", df_final[\"user_age\"].cast(\"int\"))\n",
    "\n",
    "df_final.show()\n",
    "df_final.printSchema()"
   ]
  },
  {
   "cell_type": "code",
   "execution_count": null,
   "id": "106560c8",
   "metadata": {},
   "outputs": [],
   "source": [
    "final_df.write.csv(\"gs://my-zhe-414813/conrad_output\", mode=\"overwrite\")"
   ]
  }
 ],
 "metadata": {
  "kernelspec": {
   "display_name": "Python 3 (ipykernel)",
   "language": "python",
   "name": "python3"
  },
  "language_info": {
   "codemirror_mode": {
    "name": "ipython",
    "version": 3
   },
   "file_extension": ".py",
   "mimetype": "text/x-python",
   "name": "python",
   "nbconvert_exporter": "python",
   "pygments_lexer": "ipython3",
   "version": "3.11.5"
  }
 },
 "nbformat": 4,
 "nbformat_minor": 5
}
