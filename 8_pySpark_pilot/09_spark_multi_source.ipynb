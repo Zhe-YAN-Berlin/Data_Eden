{
 "cells": [
  {
   "cell_type": "code",
   "execution_count": 2,
   "id": "6dde574c",
   "metadata": {},
   "outputs": [],
   "source": [
    "import pyspark\n",
    "from pyspark.sql import SparkSession"
   ]
  },
  {
   "cell_type": "code",
   "execution_count": 9,
   "id": "6e56cb52",
   "metadata": {},
   "outputs": [],
   "source": [
    "source_url = 'https://drive.google.com/uc?export=download&id=1vcb_HBWsOSKW4XxhLfRpGlLzBLwHlGWJ'\n",
    "!wget --no-check-certificate -O multi_source_demo.zip $source_url"
   ]
  },
  {
   "cell_type": "code",
   "execution_count": 11,
   "id": "be4671b1",
   "metadata": {},
   "outputs": [
    {
     "name": "stdout",
     "output_type": "stream",
     "text": [
      "gzip: multi_source_demo.zip.gz already has .gz suffix -- unchanged\r\n"
     ]
    }
   ],
   "source": [
    "!gzip multi_source_demo.zip.gz"
   ]
  },
  {
   "cell_type": "code",
   "execution_count": null,
   "id": "563dff1e",
   "metadata": {},
   "outputs": [],
   "source": []
  }
 ],
 "metadata": {
  "kernelspec": {
   "display_name": "Python 3 (ipykernel)",
   "language": "python",
   "name": "python3"
  },
  "language_info": {
   "codemirror_mode": {
    "name": "ipython",
    "version": 3
   },
   "file_extension": ".py",
   "mimetype": "text/x-python",
   "name": "python",
   "nbconvert_exporter": "python",
   "pygments_lexer": "ipython3",
   "version": "3.11.5"
  }
 },
 "nbformat": 4,
 "nbformat_minor": 5
}
