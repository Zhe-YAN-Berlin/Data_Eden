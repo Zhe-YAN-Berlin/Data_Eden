{
 "cells": [
  {
   "cell_type": "code",
   "execution_count": 30,
   "id": "126f726a",
   "metadata": {},
   "outputs": [],
   "source": [
    "import pyspark\n",
    "from pyspark.sql import SparkSession"
   ]
  },
  {
   "cell_type": "code",
   "execution_count": 41,
   "id": "62bfafe5",
   "metadata": {},
   "outputs": [
    {
     "name": "stdout",
     "output_type": "stream",
     "text": [
      "--2024-04-02 18:10:46--  https://drive.google.com/uc?export=download&id=1vcb_HBWsOSKW4XxhLfRpGlLzBLwHlGWJ\n",
      "Resolving drive.google.com (drive.google.com)... 64.233.166.102, 64.233.166.113, 64.233.166.138, ...\n",
      "Connecting to drive.google.com (drive.google.com)|64.233.166.102|:443... connected.\n",
      "HTTP request sent, awaiting response... 303 See Other\n",
      "Location: https://drive.usercontent.google.com/download?id=1vcb_HBWsOSKW4XxhLfRpGlLzBLwHlGWJ&export=download [following]\n",
      "--2024-04-02 18:10:46--  https://drive.usercontent.google.com/download?id=1vcb_HBWsOSKW4XxhLfRpGlLzBLwHlGWJ&export=download\n",
      "Resolving drive.usercontent.google.com (drive.usercontent.google.com)... 74.125.133.132, 2a00:1450:400c:c07::84\n",
      "Connecting to drive.usercontent.google.com (drive.usercontent.google.com)|74.125.133.132|:443... connected.\n",
      "HTTP request sent, awaiting response... 200 OK\n",
      "Length: 2433 (2.4K) [text/html]\n",
      "Saving to: ‘multi_source_demo.zip’\n",
      "\n",
      "multi_source_demo.z 100%[===================>]   2.38K  --.-KB/s    in 0.001s  \n",
      "\n",
      "2024-04-02 18:10:47 (3.33 MB/s) - ‘multi_source_demo.zip’ saved [2433/2433]\n",
      "\n"
     ]
    }
   ],
   "source": [
    "URL='https://drive.google.com/uc?export=download&id=1vcb_HBWsOSKW4XxhLfRpGlLzBLwHlGWJ'\n",
    "!wget --no-check-certificate \"$URL\" -O multi_source_demo.zip"
   ]
  },
  {
   "cell_type": "code",
   "execution_count": 43,
   "id": "dfa431c5",
   "metadata": {},
   "outputs": [
    {
     "name": "stdout",
     "output_type": "stream",
     "text": [
      "Archive:  multi_source_demo.zip\r\n",
      "  End-of-central-directory signature not found.  Either this file is not\r\n",
      "  a zipfile, or it constitutes one disk of a multi-part archive.  In the\r\n",
      "  latter case the central directory and zipfile comment will be found on\r\n",
      "  the last disk(s) of this archive.\r\n",
      "unzip:  cannot find zipfile directory in one of multi_source_demo.zip or\r\n",
      "        multi_source_demo.zip.zip, and cannot find multi_source_demo.zip.ZIP, period.\r\n"
     ]
    }
   ],
   "source": [
    "!unzip multi_source_demo.zip"
   ]
  },
  {
   "cell_type": "code",
   "execution_count": null,
   "id": "1eb9e545",
   "metadata": {},
   "outputs": [],
   "source": []
  }
 ],
 "metadata": {
  "kernelspec": {
   "display_name": "Python 3 (ipykernel)",
   "language": "python",
   "name": "python3"
  },
  "language_info": {
   "codemirror_mode": {
    "name": "ipython",
    "version": 3
   },
   "file_extension": ".py",
   "mimetype": "text/x-python",
   "name": "python",
   "nbconvert_exporter": "python",
   "pygments_lexer": "ipython3",
   "version": "3.11.5"
  }
 },
 "nbformat": 4,
 "nbformat_minor": 5
}
