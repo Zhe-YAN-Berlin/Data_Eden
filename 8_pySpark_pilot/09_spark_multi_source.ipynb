{
 "cells": [
  {
   "cell_type": "code",
   "execution_count": 46,
   "id": "126f726a",
   "metadata": {},
   "outputs": [],
   "source": [
    "import pyspark\n",
    "from pyspark.sql import SparkSession\n",
    "import requests"
   ]
  },
  {
   "cell_type": "code",
   "execution_count": 51,
   "id": "62bfafe5",
   "metadata": {},
   "outputs": [
    {
     "name": "stdout",
     "output_type": "stream",
     "text": [
      "文件下载成功。\n"
     ]
    }
   ],
   "source": [
    "URL = 'https://drive.google.com/uc?export=download&id=1vcb_HBWsOSKW4XxhLfRpGlLzBLwHlGWJ'\n",
    "output_file = 'multi_source_demo.zip'\n",
    "\n",
    "# 发送 GET 请求并下载文件\n",
    "response = requests.get(URL, allow_redirects=True)\n",
    "\n",
    "# 检查请求是否成功\n",
    "if response.status_code == 200:\n",
    "    # 写入文件\n",
    "    with open(output_file, 'wb') as f:\n",
    "        f.write(response.content)\n",
    "    print(\"文件下载成功。\")\n",
    "else:\n",
    "    print(\"下载文件失败。\")"
   ]
  },
  {
   "cell_type": "code",
   "execution_count": 43,
   "id": "dfa431c5",
   "metadata": {},
   "outputs": [
    {
     "name": "stdout",
     "output_type": "stream",
     "text": [
      "Archive:  multi_source_demo.zip\r\n",
      "  End-of-central-directory signature not found.  Either this file is not\r\n",
      "  a zipfile, or it constitutes one disk of a multi-part archive.  In the\r\n",
      "  latter case the central directory and zipfile comment will be found on\r\n",
      "  the last disk(s) of this archive.\r\n",
      "unzip:  cannot find zipfile directory in one of multi_source_demo.zip or\r\n",
      "        multi_source_demo.zip.zip, and cannot find multi_source_demo.zip.ZIP, period.\r\n"
     ]
    }
   ],
   "source": [
    "!unzip multi_source_demo.zip"
   ]
  },
  {
   "cell_type": "code",
   "execution_count": null,
   "id": "1eb9e545",
   "metadata": {},
   "outputs": [],
   "source": []
  }
 ],
 "metadata": {
  "kernelspec": {
   "display_name": "Python 3 (ipykernel)",
   "language": "python",
   "name": "python3"
  },
  "language_info": {
   "codemirror_mode": {
    "name": "ipython",
    "version": 3
   },
   "file_extension": ".py",
   "mimetype": "text/x-python",
   "name": "python",
   "nbconvert_exporter": "python",
   "pygments_lexer": "ipython3",
   "version": "3.11.5"
  }
 },
 "nbformat": 4,
 "nbformat_minor": 5
}
