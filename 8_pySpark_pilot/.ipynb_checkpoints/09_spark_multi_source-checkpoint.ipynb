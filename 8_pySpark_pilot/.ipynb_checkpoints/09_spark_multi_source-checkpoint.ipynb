{
 "cells": [
  {
   "cell_type": "code",
   "execution_count": 65,
   "id": "126f726a",
   "metadata": {},
   "outputs": [],
   "source": [
    "import pyspark\n",
    "from pyspark.sql import SparkSession\n",
    "import gdown\n",
    "import os\n",
    "from pyspark.sql.functions import *"
   ]
  },
  {
   "cell_type": "code",
   "execution_count": 4,
   "id": "62bfafe5",
   "metadata": {},
   "outputs": [
    {
     "name": "stderr",
     "output_type": "stream",
     "text": [
      "Downloading...\n",
      "From (original): https://drive.google.com/uc?id=1vcb_HBWsOSKW4XxhLfRpGlLzBLwHlGWJ\n",
      "From (redirected): https://drive.google.com/uc?id=1vcb_HBWsOSKW4XxhLfRpGlLzBLwHlGWJ&confirm=t&uuid=089e7409-dbfd-43d6-ae68-bdcdc16b18c5\n",
      "To: /home/datatalks_jan/Data_Eden/8_pySpark_pilot/source_data/multi_source_data/multi_source_demo.zip\n",
      "100%|█████████████████████████████████████████████████████████████| 154M/154M [00:00<00:00, 229MB/s]\n"
     ]
    },
    {
     "data": {
      "text/plain": [
       "'source_data/multi_source_data/multi_source_demo.zip'"
      ]
     },
     "execution_count": 4,
     "metadata": {},
     "output_type": "execute_result"
    }
   ],
   "source": [
    "source_url = 'https://drive.google.com/uc?id=1vcb_HBWsOSKW4XxhLfRpGlLzBLwHlGWJ'\n",
    "output_path = 'source_data/multi_source_data'\n",
    "output_file = os.path.join(output_path, 'multi_source_demo.zip') \n",
    "\n",
    "gdown.download(source_url, output_file, quiet=False)"
   ]
  },
  {
   "cell_type": "code",
   "execution_count": 5,
   "id": "dfa431c5",
   "metadata": {},
   "outputs": [
    {
     "name": "stdout",
     "output_type": "stream",
     "text": [
      "Archive:  source_data/multi_source_data/multi_source_demo.zip\n",
      "  inflating: source_data/multi_source_data/distribution_centers.csv  \n",
      "  inflating: source_data/multi_source_data/events.csv  \n",
      "  inflating: source_data/multi_source_data/inventory_items.csv  \n",
      "  inflating: source_data/multi_source_data/order_items.csv  \n",
      "  inflating: source_data/multi_source_data/orders.csv  \n",
      "  inflating: source_data/multi_source_data/products.csv  \n",
      "  inflating: source_data/multi_source_data/readme.txt  \n",
      "  inflating: source_data/multi_source_data/users.csv  \n"
     ]
    },
    {
     "data": {
      "text/plain": [
       "0"
      ]
     },
     "execution_count": 5,
     "metadata": {},
     "output_type": "execute_result"
    }
   ],
   "source": [
    "os.system(f'unzip -o {output_file} -d {output_path}')"
   ]
  },
  {
   "cell_type": "code",
   "execution_count": 6,
   "id": "b9cf5ce5",
   "metadata": {},
   "outputs": [
    {
     "name": "stderr",
     "output_type": "stream",
     "text": [
      "Setting default log level to \"WARN\".\n",
      "To adjust logging level use sc.setLogLevel(newLevel). For SparkR, use setLogLevel(newLevel).\n",
      "24/04/03 10:57:48 WARN NativeCodeLoader: Unable to load native-hadoop library for your platform... using builtin-java classes where applicable\n"
     ]
    }
   ],
   "source": [
    "spark = SparkSession.builder.master(\"local[*]\").appName('conrad_test').getOrCreate()"
   ]
  },
  {
   "cell_type": "code",
   "execution_count": 50,
   "id": "8fdba772",
   "metadata": {},
   "outputs": [
    {
     "name": "stderr",
     "output_type": "stream",
     "text": [
      "\r",
      "                                                                                \r"
     ]
    }
   ],
   "source": [
    "df_1_users = spark.read.option(\"header\", \"true\").csv(f'{output_path}/users.csv')\n",
    "df_1_distri_centers = spark.read.option(\"header\", \"true\").csv(f'{output_path}/distribution_centers.csv')"
   ]
  },
  {
   "cell_type": "code",
   "execution_count": 52,
   "id": "bab8839b",
   "metadata": {},
   "outputs": [],
   "source": [
    "df_1_users = df_1_users.withColumn(\"latitude\", df_1_users[\"latitude\"].cast(\"float\"))\n",
    "df_1_users = df_1_users.withColumn(\"longitude\", df_1_users[\"longitude\"].cast(\"float\"))\n",
    "df_1_distri_centers = df_1_distri_centers.withColumn(\"latitude\", df_1_distri_centers[\"latitude\"].cast(\"float\"))\n",
    "df_1_distri_centers = df_1_distri_centers.withColumn(\"longitude\", df_1_distri_centers[\"longitude\"].cast(\"float\"))"
   ]
  },
  {
   "cell_type": "code",
   "execution_count": 67,
   "id": "c97fe34f",
   "metadata": {},
   "outputs": [
    {
     "name": "stdout",
     "output_type": "stream",
     "text": [
      "root\n",
      " |-- id: string (nullable = true)\n",
      " |-- name: string (nullable = true)\n",
      " |-- latitude: float (nullable = true)\n",
      " |-- longitude: float (nullable = true)\n",
      "\n"
     ]
    }
   ],
   "source": [
    "df_1_distri_centers.printSchema()"
   ]
  },
  {
   "cell_type": "code",
   "execution_count": 110,
   "id": "e87d7666",
   "metadata": {},
   "outputs": [],
   "source": [
    "from pyspark.sql.functions import col, acos, cos, sin, radians, atan2, sqrt"
   ]
  },
  {
   "cell_type": "code",
   "execution_count": 111,
   "id": "54b80489",
   "metadata": {},
   "outputs": [],
   "source": [
    "def haversine_distance(lat1, lon1, lat2, lon2):\n",
    "    lat1, lon1, lat2, lon2 = map(radians, [lat1, lon1, lat2, lon2])\n",
    "    dlon = lon2 - lon1\n",
    "    dlat = lat2 - lat1\n",
    "    a = sin(dlat / 2) ** 2 + cos(lat1) * cos(lat2) * sin(dlon / 2) ** 2\n",
    "    c = 2 * atan2(sqrt(a), sqrt(1 - a))\n",
    "    distance = 6371 * c \n",
    "    return distance"
   ]
  },
  {
   "cell_type": "code",
   "execution_count": 135,
   "id": "4b570f18",
   "metadata": {},
   "outputs": [],
   "source": [
    "df_1_users.createOrReplaceTempView(\"users\")\n",
    "df_1_distri_centers.createOrReplaceTempView(\"distribution_centers\")"
   ]
  },
  {
   "cell_type": "code",
   "execution_count": 136,
   "id": "d394fd24",
   "metadata": {},
   "outputs": [],
   "source": [
    "df_1_sql_query = \"\"\"\n",
    "    SELECT u.id as user_id, u.age as user_age, u.country, u.state,\n",
    "           dc.id AS distribution_center_id,dc.name AS distribution_center_name,\n",
    "           u.latitude as user_latitude, u.longitude as user_longitude, dc.latitude as center_latitude, dc.longitude as center_longitude\n",
    "    FROM users u\n",
    "    CROSS JOIN distribution_centers dc\n",
    "    ORDER BY u.id\n",
    "\"\"\""
   ]
  },
  {
   "cell_type": "code",
   "execution_count": 146,
   "id": "2bd6a67d",
   "metadata": {},
   "outputs": [
    {
     "name": "stderr",
     "output_type": "stream",
     "text": [
      "[Stage 79:=============================>                            (1 + 1) / 2]\r"
     ]
    },
    {
     "name": "stdout",
     "output_type": "stream",
     "text": [
      "+-------+--------+-------+---------+----------------------+------------------------+-------------+--------------+---------------+----------------+------------------+\n",
      "|user_id|user_age|country|    state|distribution_center_id|distribution_center_name|user_latitude|user_longitude|center_latitude|center_longitude|          distance|\n",
      "+-------+--------+-------+---------+----------------------+------------------------+-------------+--------------+---------------+----------------+------------------+\n",
      "|      1|      70|  China|   Shanxi|                     1|              Memphis TN|    36.147415|      113.1227|        35.1174|        -89.9711|11737.842558916114|\n",
      "|      1|      70|  China|   Shanxi|                     2|              Chicago IL|    36.147415|      113.1227|        41.8369|        -87.6847|11089.054948665944|\n",
      "|      1|      70|  China|   Shanxi|                     3|              Houston TX|    36.147415|      113.1227|        29.7604|        -95.3698|12104.974024220499|\n",
      "|      1|      70|  China|   Shanxi|                     4|          Los Angeles CA|    36.147415|      113.1227|          34.05|         -118.25|10564.978611447585|\n",
      "|      1|      70|  China|   Shanxi|                     5|          New Orleans LA|    36.147415|      113.1227|          29.95|        -90.0667|12276.485420254874|\n",
      "|      1|      70|  China|   Shanxi|                     6|    Port Authority of...|    36.147415|      113.1227|         40.634|        -73.7834|11448.301174679178|\n",
      "|      1|      70|  China|   Shanxi|                     7|         Philadelphia PA|    36.147415|      113.1227|          39.95|        -75.1667| 11511.02762671131|\n",
      "|      1|      70|  China|   Shanxi|                     8|               Mobile AL|    36.147415|      113.1227|        30.6944|        -88.0431|12261.354007642278|\n",
      "|      1|      70|  China|   Shanxi|                     9|           Charleston SC|    36.147415|      113.1227|        32.7833|        -79.9333| 12230.94767892766|\n",
      "|      1|      70|  China|   Shanxi|                    10|             Savannah GA|    36.147415|      113.1227|        32.0167|        -81.1167|12291.843440491617|\n",
      "|     10|      18|  China|Guangdong|                     3|              Houston TX|    22.670498|     113.25135|        29.7604|        -95.3698|13430.814635687831|\n",
      "|     10|      18|  China|Guangdong|                     2|              Chicago IL|    22.670498|     113.25135|        41.8369|        -87.6847|12525.460110687514|\n",
      "|     10|      18|  China|Guangdong|                     1|              Memphis TN|    22.670498|     113.25135|        35.1174|        -89.9711| 13138.56394967807|\n",
      "|     10|      18|  China|Guangdong|                     4|          Los Angeles CA|    22.670498|     113.25135|          34.05|         -118.25|11683.981878339073|\n",
      "|     10|      18|  China|Guangdong|                     5|          New Orleans LA|    22.670498|     113.25135|          29.95|        -90.0667|13655.345542274565|\n",
      "|     10|      18|  China|Guangdong|                     6|    Port Authority of...|    22.670498|     113.25135|         40.634|        -73.7834|12938.411877665189|\n",
      "|     10|      18|  China|Guangdong|                     7|         Philadelphia PA|    22.670498|     113.25135|          39.95|        -75.1667|12997.446360826227|\n",
      "|     10|      18|  China|Guangdong|                     8|               Mobile AL|    22.670498|     113.25135|        30.6944|        -88.0431| 13661.07394238484|\n",
      "|     10|      18|  China|Guangdong|                     9|           Charleston SC|    22.670498|     113.25135|        32.7833|        -79.9333|13692.047087019244|\n",
      "|     10|      18|  China|Guangdong|                    10|             Savannah GA|    22.670498|     113.25135|        32.0167|        -81.1167| 13745.04539848241|\n",
      "+-------+--------+-------+---------+----------------------+------------------------+-------------+--------------+---------------+----------------+------------------+\n",
      "only showing top 20 rows\n",
      "\n"
     ]
    },
    {
     "name": "stderr",
     "output_type": "stream",
     "text": [
      "\r",
      "                                                                                \r"
     ]
    }
   ],
   "source": [
    "df_1_with_distance = spark.sql(df_1_sql_query).withColumn(\"distance\", haversine_distance(col(\"user_latitude\"), col(\"user_longitude\"), col(\"center_latitude\"), col(\"center_longitude\")))\n",
    "df_1_with_distance.show()"
   ]
  },
  {
   "cell_type": "code",
   "execution_count": 150,
   "id": "267a755b",
   "metadata": {},
   "outputs": [
    {
     "name": "stderr",
     "output_type": "stream",
     "text": [
      "[Stage 108:>                                                        (0 + 2) / 2]\r"
     ]
    },
    {
     "name": "stdout",
     "output_type": "stream",
     "text": [
      "+-------+--------+--------------+--------------------+----------------------+------------------------+------------------+\n",
      "|user_id|user_age|       country|               state|distribution_center_id|distribution_center_name|          distance|\n",
      "+-------+--------+--------------+--------------------+----------------------+------------------------+------------------+\n",
      "|      1|      70|         China|              Shanxi|                     4|          Los Angeles CA|10564.978611447585|\n",
      "|     10|      18|         China|           Guangdong|                     4|          Los Angeles CA|11683.981878339073|\n",
      "|    100|      32|         China|           Guangdong|                     4|          Los Angeles CA|11433.559166566682|\n",
      "|   1000|      49|         China|           Guangdong|                     4|          Los Angeles CA|11628.109441907302|\n",
      "|  10000|      38|         China|           Guangdong|                     4|          Los Angeles CA|11375.162419660232|\n",
      "| 100000|      34|        France|       Île-de-France|                     6|    Port Authority of...|  5827.07618422238|\n",
      "|  10001|      12|         Japan|             Okayama|                     4|          Los Angeles CA| 9329.940966048947|\n",
      "|  10002|      50| United States|          California|                     4|          Los Angeles CA|  50.2449112005029|\n",
      "|  10003|      34|         China|Inner Mongolia Au...|                     4|          Los Angeles CA|10351.782103638005|\n",
      "|  10004|      45|         China|               Henan|                     4|          Los Angeles CA|10528.829697124922|\n",
      "|  10005|      58|   South Korea|         Gyeonggi-do|                     4|          Los Angeles CA| 9612.462559030317|\n",
      "|  10006|      38|         China|            Shanghai|                     4|          Los Angeles CA|10452.422842371105|\n",
      "|  10007|      60| United States|               Texas|                     3|              Houston TX|234.14870082472504|\n",
      "|  10008|      53|         China|             Jiangxi|                     4|          Los Angeles CA|10875.458480029021|\n",
      "|  10009|      38|        Brasil|               Bahia|                     9|           Charleston SC| 6726.068756218762|\n",
      "|   1001|      53|         Japan|               Tokyo|                     4|          Los Angeles CA| 8821.330001235976|\n",
      "|  10010|      22|        Brasil|          Pernambuco|                     9|           Charleston SC| 6521.658472429486|\n",
      "|  10011|      28|United Kingdom|             England|                     6|    Port Authority of...|5449.8777723765925|\n",
      "|  10012|      52| United States|         Connecticut|                     6|    Port Authority of...| 166.5618116621524|\n",
      "|  10013|      70|   South Korea|   Chungcheongnam-do|                     4|          Los Angeles CA|  9638.83584811401|\n",
      "+-------+--------+--------------+--------------------+----------------------+------------------------+------------------+\n",
      "only showing top 20 rows\n",
      "\n",
      "root\n",
      " |-- user_id: string (nullable = true)\n",
      " |-- user_age: string (nullable = true)\n",
      " |-- country: string (nullable = true)\n",
      " |-- state: string (nullable = true)\n",
      " |-- distribution_center_id: string (nullable = true)\n",
      " |-- distribution_center_name: string (nullable = true)\n",
      " |-- distance: double (nullable = true)\n",
      "\n"
     ]
    },
    {
     "name": "stderr",
     "output_type": "stream",
     "text": [
      "\r",
      "[Stage 111:>                                                        (0 + 2) / 2]\r",
      "\r",
      "                                                                                \r"
     ]
    }
   ],
   "source": [
    "from pyspark.sql.window import Window\n",
    "windowSpec = Window.partitionBy(\"user_id\").orderBy(\"distance\")\n",
    "df_with_row_number = df_1_with_distance.withColumn(\"row_number\", row_number().over(windowSpec))\n",
    "df_1_final = df_with_row_number.filter(col(\"row_number\") == 1)\n",
    "df_1 = df_1_final.select(\"user_id\",\"user_age\",\"country\",\"state\",\"distribution_center_id\",\"distribution_center_name\",\"distance\").orderBy(\"user_id\")\n",
    "df_1.show()\n",
    "df_1.printSchema()"
   ]
  },
  {
   "cell_type": "code",
   "execution_count": null,
   "id": "3613f4ed",
   "metadata": {},
   "outputs": [],
   "source": []
  }
 ],
 "metadata": {
  "kernelspec": {
   "display_name": "Python 3 (ipykernel)",
   "language": "python",
   "name": "python3"
  },
  "language_info": {
   "codemirror_mode": {
    "name": "ipython",
    "version": 3
   },
   "file_extension": ".py",
   "mimetype": "text/x-python",
   "name": "python",
   "nbconvert_exporter": "python",
   "pygments_lexer": "ipython3",
   "version": "3.11.5"
  }
 },
 "nbformat": 4,
 "nbformat_minor": 5
}
