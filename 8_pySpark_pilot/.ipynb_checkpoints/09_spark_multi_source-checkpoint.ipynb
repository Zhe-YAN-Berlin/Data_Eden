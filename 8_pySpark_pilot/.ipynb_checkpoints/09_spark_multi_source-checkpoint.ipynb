{
 "cells": [
  {
   "cell_type": "code",
   "execution_count": 1,
   "id": "126f726a",
   "metadata": {},
   "outputs": [],
   "source": [
    "import pyspark\n",
    "from pyspark.sql import SparkSession\n",
    "import gdown\n",
    "import os"
   ]
  },
  {
   "cell_type": "code",
   "execution_count": 2,
   "id": "62bfafe5",
   "metadata": {},
   "outputs": [
    {
     "name": "stderr",
     "output_type": "stream",
     "text": [
      "Downloading...\n",
      "From (original): https://drive.google.com/uc?id=1vcb_HBWsOSKW4XxhLfRpGlLzBLwHlGWJ\n",
      "From (redirected): https://drive.google.com/uc?id=1vcb_HBWsOSKW4XxhLfRpGlLzBLwHlGWJ&confirm=t&uuid=9fa598cb-33d0-4ef8-b198-4ce623b28fa6\n",
      "To: /home/datatalks_jan/Data_Eden/8_pySpark_pilot/source_data/multi_source_data/multi_source_demo.zip\n",
      "100%|█████████████████████████████████████████████████████████████████████████████| 154M/154M [00:01<00:00, 83.2MB/s]\n"
     ]
    },
    {
     "data": {
      "text/plain": [
       "'source_data/multi_source_data/multi_source_demo.zip'"
      ]
     },
     "execution_count": 2,
     "metadata": {},
     "output_type": "execute_result"
    }
   ],
   "source": [
    "source_url = 'https://drive.google.com/uc?id=1vcb_HBWsOSKW4XxhLfRpGlLzBLwHlGWJ'\n",
    "output_path = 'source_data/multi_source_data'\n",
    "output_file = os.path.join(output_path, 'multi_source_demo.zip') \n",
    "\n",
    "gdown.download(source_url, output_file, quiet=False)"
   ]
  },
  {
   "cell_type": "code",
   "execution_count": 3,
   "id": "dfa431c5",
   "metadata": {},
   "outputs": [
    {
     "name": "stdout",
     "output_type": "stream",
     "text": [
      "Archive:  source_data/multi_source_data/multi_source_demo.zip\n",
      "  inflating: source_data/multi_source_data/distribution_centers.csv  \n",
      "  inflating: source_data/multi_source_data/events.csv  \n",
      "  inflating: source_data/multi_source_data/inventory_items.csv  \n",
      "  inflating: source_data/multi_source_data/order_items.csv  \n",
      "  inflating: source_data/multi_source_data/orders.csv  \n",
      "  inflating: source_data/multi_source_data/products.csv  \n",
      "  inflating: source_data/multi_source_data/readme.txt  \n",
      "  inflating: source_data/multi_source_data/users.csv  \n"
     ]
    },
    {
     "data": {
      "text/plain": [
       "0"
      ]
     },
     "execution_count": 3,
     "metadata": {},
     "output_type": "execute_result"
    }
   ],
   "source": [
    "os.system(f'unzip {output_file} -d {output_path}')"
   ]
  },
  {
   "cell_type": "code",
   "execution_count": null,
   "id": "b9cf5ce5",
   "metadata": {},
   "outputs": [],
   "source": []
  }
 ],
 "metadata": {
  "kernelspec": {
   "display_name": "Python 3 (ipykernel)",
   "language": "python",
   "name": "python3"
  },
  "language_info": {
   "codemirror_mode": {
    "name": "ipython",
    "version": 3
   },
   "file_extension": ".py",
   "mimetype": "text/x-python",
   "name": "python",
   "nbconvert_exporter": "python",
   "pygments_lexer": "ipython3",
   "version": "3.11.5"
  }
 },
 "nbformat": 4,
 "nbformat_minor": 5
}
