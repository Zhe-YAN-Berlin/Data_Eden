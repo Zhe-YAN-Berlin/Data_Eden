{
 "cells": [
  {
   "cell_type": "code",
   "execution_count": 2,
   "id": "0413b12e",
   "metadata": {},
   "outputs": [],
   "source": [
    "import pyspark\n",
    "from pyspark.sql import SparkSession"
   ]
  },
  {
   "cell_type": "code",
   "execution_count": 5,
   "id": "587d6927",
   "metadata": {},
   "outputs": [
    {
     "name": "stderr",
     "output_type": "stream",
     "text": [
      "Setting default log level to \"WARN\".\n",
      "To adjust logging level use sc.setLogLevel(newLevel). For SparkR, use setLogLevel(newLevel).\n",
      "24/03/14 21:49:17 WARN NativeCodeLoader: Unable to load native-hadoop library for your platform... using builtin-java classes where applicable\n"
     ]
    }
   ],
   "source": [
    "spark = SparkSession.builder.master(\"local[*]\").appName('test_json').getOrCreate()"
   ]
  },
  {
   "cell_type": "code",
   "execution_count": 9,
   "id": "c0cf77b4",
   "metadata": {},
   "outputs": [],
   "source": [
    "df_raw = spark.read.option(\"header\", \"true\").json('*.json')"
   ]
  },
  {
   "cell_type": "code",
   "execution_count": 10,
   "id": "ab0b9a0d",
   "metadata": {},
   "outputs": [
    {
     "name": "stdout",
     "output_type": "stream",
     "text": [
      "+---+---------+------+\n",
      "|age|     name|salary|\n",
      "+---+---------+------+\n",
      "| 30|     John|  5000|\n",
      "| 35|     Emma|  6000|\n",
      "| 28|  Michael|  4800|\n",
      "| 40|   Sophia|  7000|\n",
      "| 25|    James|  4500|\n",
      "| 32|   Olivia|  5500|\n",
      "| 38|  William|  6500|\n",
      "| 27|      Ava|  4700|\n",
      "| 33|Alexander|  5800|\n",
      "| 36|      Mia|  6200|\n",
      "| 29|Charlotte|  4900|\n",
      "| 31| Benjamin|  5300|\n",
      "| 34|   Evelyn|  5600|\n",
      "| 39|   Daniel|  6700|\n",
      "| 26|   Harper|  4600|\n",
      "| 32|Alexander|  5500|\n",
      "| 37| Isabella|  6300|\n",
      "| 29|   Sophia|  4900|\n",
      "| 34|    Mason|  5600|\n",
      "| 31|   Amelia|  5300|\n",
      "+---+---------+------+\n",
      "only showing top 20 rows\n",
      "\n",
      "<class 'pyspark.sql.dataframe.DataFrame'>\n"
     ]
    }
   ],
   "source": [
    "df_raw.show()\n",
    "print(type(df_raw))"
   ]
  },
  {
   "cell_type": "code",
   "execution_count": 11,
   "id": "6bcf9687",
   "metadata": {},
   "outputs": [
    {
     "data": {
      "text/plain": [
       "StructType([StructField('age', LongType(), True), StructField('name', StringType(), True), StructField('salary', LongType(), True)])"
      ]
     },
     "execution_count": 11,
     "metadata": {},
     "output_type": "execute_result"
    }
   ],
   "source": [
    "df_raw.schema"
   ]
  },
  {
   "cell_type": "code",
   "execution_count": 15,
   "id": "ca1f2a36",
   "metadata": {},
   "outputs": [],
   "source": [
    "from pyspark.sql.functions import col\n",
    "\n",
    "df_long2int = df_raw.withColumn(\"age\", col(\"age\").cast(\"integer\"))"
   ]
  },
  {
   "cell_type": "code",
   "execution_count": 16,
   "id": "b66103c5",
   "metadata": {},
   "outputs": [
    {
     "data": {
      "text/plain": [
       "StructType([StructField('age', IntegerType(), True), StructField('name', StringType(), True), StructField('salary', LongType(), True)])"
      ]
     },
     "execution_count": 16,
     "metadata": {},
     "output_type": "execute_result"
    }
   ],
   "source": [
    "df_long2int.schema"
   ]
  },
  {
   "cell_type": "code",
   "execution_count": null,
   "id": "09418c8e",
   "metadata": {},
   "outputs": [],
   "source": [
    "# pause caffee"
   ]
  }
 ],
 "metadata": {
  "kernelspec": {
   "display_name": "Python 3 (ipykernel)",
   "language": "python",
   "name": "python3"
  },
  "language_info": {
   "codemirror_mode": {
    "name": "ipython",
    "version": 3
   },
   "file_extension": ".py",
   "mimetype": "text/x-python",
   "name": "python",
   "nbconvert_exporter": "python",
   "pygments_lexer": "ipython3",
   "version": "3.11.5"
  }
 },
 "nbformat": 4,
 "nbformat_minor": 5
}
