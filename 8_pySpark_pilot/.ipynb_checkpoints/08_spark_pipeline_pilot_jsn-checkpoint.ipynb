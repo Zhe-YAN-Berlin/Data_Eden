{
 "cells": [
  {
   "cell_type": "code",
   "execution_count": 2,
   "id": "85395481",
   "metadata": {},
   "outputs": [],
   "source": [
    "import pyspark\n",
    "from pyspark.sql import SparkSession"
   ]
  },
  {
   "cell_type": "code",
   "execution_count": 5,
   "id": "1bc9c691",
   "metadata": {},
   "outputs": [
    {
     "name": "stderr",
     "output_type": "stream",
     "text": [
      "Setting default log level to \"WARN\".\n",
      "To adjust logging level use sc.setLogLevel(newLevel). For SparkR, use setLogLevel(newLevel).\n",
      "24/03/14 21:49:17 WARN NativeCodeLoader: Unable to load native-hadoop library for your platform... using builtin-java classes where applicable\n"
     ]
    }
   ],
   "source": [
    "spark = SparkSession.builder.master(\"local[*]\").appName('test_json').getOrCreate()"
   ]
  },
  {
   "cell_type": "code",
   "execution_count": 9,
   "id": "abfbfd8e",
   "metadata": {},
   "outputs": [],
   "source": [
    "df_raw = spark.read.option(\"header\", \"true\").json('test_struc_data.json')"
   ]
  },
  {
   "cell_type": "code",
   "execution_count": 10,
   "id": "ccc2bbe3",
   "metadata": {},
   "outputs": [
    {
     "name": "stdout",
     "output_type": "stream",
     "text": [
      "+---+---------+------+\n",
      "|age|     name|salary|\n",
      "+---+---------+------+\n",
      "| 30|     John|  5000|\n",
      "| 35|     Emma|  6000|\n",
      "| 28|  Michael|  4800|\n",
      "| 40|   Sophia|  7000|\n",
      "| 25|    James|  4500|\n",
      "| 32|   Olivia|  5500|\n",
      "| 38|  William|  6500|\n",
      "| 27|      Ava|  4700|\n",
      "| 33|Alexander|  5800|\n",
      "| 36|      Mia|  6200|\n",
      "| 29|Charlotte|  4900|\n",
      "| 31| Benjamin|  5300|\n",
      "| 34|   Evelyn|  5600|\n",
      "| 39|   Daniel|  6700|\n",
      "| 26|   Harper|  4600|\n",
      "| 32|Alexander|  5500|\n",
      "| 37| Isabella|  6300|\n",
      "| 29|   Sophia|  4900|\n",
      "| 34|    Mason|  5600|\n",
      "| 31|   Amelia|  5300|\n",
      "+---+---------+------+\n",
      "only showing top 20 rows\n",
      "\n",
      "<class 'pyspark.sql.dataframe.DataFrame'>\n"
     ]
    }
   ],
   "source": [
    "df_raw.show()\n",
    "print(type(df_raw))"
   ]
  },
  {
   "cell_type": "code",
   "execution_count": 11,
   "id": "bc76a413",
   "metadata": {},
   "outputs": [
    {
     "data": {
      "text/plain": [
       "StructType([StructField('age', LongType(), True), StructField('name', StringType(), True), StructField('salary', LongType(), True)])"
      ]
     },
     "execution_count": 11,
     "metadata": {},
     "output_type": "execute_result"
    }
   ],
   "source": [
    "df_raw.schema"
   ]
  },
  {
   "cell_type": "code",
   "execution_count": 15,
   "id": "16e79d5a",
   "metadata": {},
   "outputs": [],
   "source": [
    "from pyspark.sql.functions import col\n",
    "\n",
    "df_long2int = df_raw.withColumn(\"age\", col(\"age\").cast(\"integer\"))"
   ]
  },
  {
   "cell_type": "code",
   "execution_count": 16,
   "id": "7b314f88",
   "metadata": {},
   "outputs": [
    {
     "data": {
      "text/plain": [
       "StructType([StructField('age', IntegerType(), True), StructField('name', StringType(), True), StructField('salary', LongType(), True)])"
      ]
     },
     "execution_count": 16,
     "metadata": {},
     "output_type": "execute_result"
    }
   ],
   "source": [
    "df_long2int.schema"
   ]
  },
  {
   "cell_type": "code",
   "execution_count": 17,
   "id": "3a26eb03",
   "metadata": {},
   "outputs": [],
   "source": [
    "# pause caffee\n",
    "spark.stop()"
   ]
  },
  {
   "cell_type": "code",
   "execution_count": 47,
   "id": "42151c9e",
   "metadata": {},
   "outputs": [],
   "source": [
    "import pyspark\n",
    "from pyspark.sql.functions import count\n",
    "from pyspark.sql import SparkSession\n",
    "spark = SparkSession.builder.master(\"local[*]\").appName('test').getOrCreate()\n",
    "df_raw = spark.read.text('test_unstruc_data.txt') #header option 需要去掉"
   ]
  },
  {
   "cell_type": "code",
   "execution_count": 49,
   "id": "7227240a",
   "metadata": {},
   "outputs": [
    {
     "name": "stdout",
     "output_type": "stream",
     "text": [
      "DataFrame[value: string]\n",
      "+--------------------+\n",
      "|               value|\n",
      "+--------------------+\n",
      "|[\"apple\",\"banana\"...|\n",
      "+--------------------+\n",
      "\n"
     ]
    }
   ],
   "source": [
    "print(df_raw)\n",
    "df_raw.show()"
   ]
  },
  {
   "cell_type": "code",
   "execution_count": 51,
   "id": "14886f27",
   "metadata": {},
   "outputs": [],
   "source": [
    "df_fruits = df_raw.selectExpr(\"explode(split(value, ',')) as fruit\")  #高级"
   ]
  },
  {
   "cell_type": "code",
   "execution_count": 52,
   "id": "2c5c0e1c",
   "metadata": {},
   "outputs": [
    {
     "data": {
      "text/plain": [
       "<bound method DataFrame.show of DataFrame[fruit: string]>"
      ]
     },
     "execution_count": 52,
     "metadata": {},
     "output_type": "execute_result"
    }
   ],
   "source": [
    "df_fruits.show"
   ]
  },
  {
   "cell_type": "code",
   "execution_count": 53,
   "id": "0fd6dce8",
   "metadata": {},
   "outputs": [],
   "source": [
    "df_counts = df_fruits.groupBy(\"fruit\").agg(count(\"*\").alias(\"count\"))"
   ]
  },
  {
   "cell_type": "code",
   "execution_count": 54,
   "id": "b47180e8",
   "metadata": {},
   "outputs": [
    {
     "name": "stdout",
     "output_type": "stream",
     "text": [
      "+--------+-----+\n",
      "|   fruit|count|\n",
      "+--------+-----+\n",
      "|\"banana\"|   10|\n",
      "|\"orange\"|   10|\n",
      "|\"grape\"]|    1|\n",
      "|  \"pear\"|    9|\n",
      "| \"grape\"|    9|\n",
      "|[\"apple\"|    1|\n",
      "| \"apple\"|   10|\n",
      "+--------+-----+\n",
      "\n"
     ]
    }
   ],
   "source": [
    "df_counts.show()"
   ]
  },
  {
   "cell_type": "code",
   "execution_count": 46,
   "id": "288ffafd",
   "metadata": {},
   "outputs": [],
   "source": [
    "spark.stop()"
   ]
  },
  {
   "cell_type": "code",
   "execution_count": 16,
   "id": "ea6274ed",
   "metadata": {},
   "outputs": [],
   "source": [
    "import pyspark\n",
    "from pyspark.sql import SparkSession\n",
    "\n",
    "spark = SparkSession.builder.master(\"local[*]\").getOrCreate()"
   ]
  },
  {
   "cell_type": "code",
   "execution_count": 22,
   "id": "d2ec0ffd",
   "metadata": {},
   "outputs": [],
   "source": [
    "sc = spark.sparkContext\n",
    "rdd = sc.textFile(\"head_0.csv\")"
   ]
  },
  {
   "cell_type": "code",
   "execution_count": 23,
   "id": "7da85ebe",
   "metadata": {},
   "outputs": [
    {
     "data": {
      "text/plain": [
       "['hvfhs_license_num,dispatching_base_num,pickup_datetime,dropoff_datetime,PULocationID,DOLocationID,SR_Flag',\n",
       " 'HV6789,B67890,2021-01-01 00:33:44,2021-01-01 00:49:07,230,166,',\n",
       " '']"
      ]
     },
     "execution_count": 23,
     "metadata": {},
     "output_type": "execute_result"
    }
   ],
   "source": [
    "rdd.collect()"
   ]
  },
  {
   "cell_type": "code",
   "execution_count": null,
   "id": "5080388d",
   "metadata": {},
   "outputs": [],
   "source": []
  }
 ],
 "metadata": {
  "kernelspec": {
   "display_name": "Python 3 (ipykernel)",
   "language": "python",
   "name": "python3"
  },
  "language_info": {
   "codemirror_mode": {
    "name": "ipython",
    "version": 3
   },
   "file_extension": ".py",
   "mimetype": "text/x-python",
   "name": "python",
   "nbconvert_exporter": "python",
   "pygments_lexer": "ipython3",
   "version": "3.11.5"
  }
 },
 "nbformat": 4,
 "nbformat_minor": 5
}
